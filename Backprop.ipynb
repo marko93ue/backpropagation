{
 "cells": [
  {
   "cell_type": "code",
   "execution_count": 1,
   "metadata": {
    "collapsed": true
   },
   "outputs": [],
   "source": [
    "import numpy as np\n",
    "import matplotlib.pyplot as plt\n",
    "%matplotlib inline"
   ]
  },
  {
   "cell_type": "code",
   "execution_count": 2,
   "metadata": {
    "collapsed": true
   },
   "outputs": [],
   "source": [
    "#funkcije\n",
    "\n",
    "def sigmoid(x):\n",
    "    return 1/(1+ np.e**(x))\n",
    "\n",
    "#fja greske\n",
    "def E(X,Y):\n",
    "    return np.sum((X-Y)**2)\n",
    "\n",
    "#izvod od E po w, parametar k je sloj\n",
    "def dE(k):\n",
    "    return 2*h[k]\n",
    "\n",
    "#regularizacija\n",
    "def omega(W,reg_param):\n",
    "    S = 0;\n",
    "    for i in range(0,L):\n",
    "        S+=np.sum(W[i]**2)\n",
    "    return reg_param*S\n",
    "\n",
    "#fja cene\n",
    "def Cost(X,Y,W,reg_param):\n",
    "    return E(X,Y)*0.5 + 0.5*omega(W,reg_param)\n",
    "\n",
    "#forward pass\n",
    "def forward(X,a,h,W,B,L,e,o,c):\n",
    "    for i in range(0,L):\n",
    "        if (i == 0):\n",
    "            a[i] = X\n",
    "            h[i] = X\n",
    "        elif (i == L-1):\n",
    "            a[i] = W[i-1].dot(h[i-1]) + B[i-1]\n",
    "            h[i] = a[i]\n",
    "        else:\n",
    "            a[i] = W[i-1].dot(h[i-1]) + B[i-1]\n",
    "            h[i] = sigmoid(a[i])\n",
    "\n",
    "    e = E(h[L-1],Y)\n",
    "    o = omega(W,reg_param)\n",
    "    c = Cost(h[L-1],Y,W,reg_param)\n",
    "    return (a,h,e,o,c)\n",
    "\n",
    "#backward pass\n",
    "def back(h,W,dW,dB,L,reg_param):\n",
    "    d = 0.5*dE(L-1)\n",
    "    k = L-1\n",
    "    while k>=0:\n",
    "        if(k == L-1):\n",
    "            d = d\n",
    "        else:\n",
    "            d = d * ((1 - h[k])*(h[k]))\n",
    "\n",
    "        dB[k] = d \n",
    "\n",
    "        if k>0:\n",
    "            dW[k] = d.dot(h[k-1].T)  + reg_param*W[k]\n",
    "        else:\n",
    "            dW[k] = d + reg_param*W[k]\n",
    "        d = W[k].T.dot(d)    \n",
    "        k= k-1\n",
    "    return (dW,dB)\n",
    "\n",
    "#fja radi forward pass, pa backward pass i menja vrednost W i B na osnovu gradijenta i brzine ucenja\n",
    "def iteracija(X,a,h,W,B,L,e,o,c,dW,dB,reg_param,ni):\n",
    "    (a,h,e,o,c) = forward(X,a,h,W,B,L,e,o,c)\n",
    "    (dW,dB) = back(h,W,dW,dB,L,reg_param)\n",
    "    W = W - ni * dW\n",
    "    B = B - ni * dB\n",
    "    return (X,a,h,W,B,L,e,o,c,dW,dB)\n"
   ]
  },
  {
   "cell_type": "code",
   "execution_count": 3,
   "metadata": {
    "collapsed": true
   },
   "outputs": [],
   "source": [
    "#inicijalizacije\n",
    "#ulazni podaci\n",
    "reg_param = 0.1\n",
    "\n",
    "#L broj slojeva\n",
    "L =3\n",
    "# N broj ulaza\n",
    "N = 5\n",
    "\n",
    "#batch size, radi samo za n=1\n",
    "n=1\n",
    "\n",
    "#brzina ucenja\n",
    "ni = 0.1"
   ]
  },
  {
   "cell_type": "code",
   "execution_count": 4,
   "metadata": {
    "collapsed": true
   },
   "outputs": [],
   "source": [
    "#ocekivane vrednosti\n",
    "Y = np.random.randn(N,n)\n",
    "#Y = -11*np.ones((N,n))"
   ]
  },
  {
   "cell_type": "code",
   "execution_count": 5,
   "metadata": {
    "collapsed": true
   },
   "outputs": [],
   "source": [
    "#ulaz\n",
    "X = np.random.randn(N,n)\n",
    "#X = np.zeros((N,n))"
   ]
  },
  {
   "cell_type": "code",
   "execution_count": 6,
   "metadata": {
    "collapsed": true
   },
   "outputs": [],
   "source": [
    "#tezine\n",
    "W= [ np.random.randn(N,N), np.random.randn(N,N), np.random.randn(N,N)]\n",
    "#W = [ np.zeros((N,N)), np.ones((N,N)), np.ones((N,N))]"
   ]
  },
  {
   "cell_type": "code",
   "execution_count": 7,
   "metadata": {
    "collapsed": true
   },
   "outputs": [],
   "source": [
    "#bias\n",
    "B = [ np.random.randn(N,n), np.random.randn(N,n), np.random.randn(N,n)]"
   ]
  },
  {
   "cell_type": "code",
   "execution_count": 8,
   "metadata": {
    "collapsed": false
   },
   "outputs": [],
   "source": [
    "#init ostalog\n",
    "\n",
    "#sume W*h\n",
    "a = np.empty([L,N,n])\n",
    "\n",
    "# h = sigmoid(a)\n",
    "h = np.empty([L,N,n])\n",
    "\n",
    "#greska\n",
    "e= 0\n",
    "\n",
    "#regularizcija\n",
    "o = 0\n",
    "# c = e +o\n",
    "c = 0\n",
    "dW = np.empty([L,N,N])\n",
    "dB = np.empty([L,N,n])\n",
    "\n",
    "#broj iteracija\n",
    "O = 500\n",
    "\n",
    "#cene iteracija \n",
    "niz = np.empty(O)\n",
    "\n",
    "#iteracije\n",
    "for i in range(0,O):\n",
    "    (X,a,h,W,B,L,e,o,c,dW,dB)=iteracija(X,a,h,W,B,L,e,o,c,dW,dB,reg_param,ni)\n",
    "    niz[i] = c"
   ]
  },
  {
   "cell_type": "code",
   "execution_count": 9,
   "metadata": {
    "collapsed": false
   },
   "outputs": [
    {
     "data": {
      "text/plain": [
       "[<matplotlib.lines.Line2D at 0x7f3b18e787b8>]"
      ]
     },
     "execution_count": 9,
     "metadata": {},
     "output_type": "execute_result"
    },
    {
     "data": {
      "image/png": "[encoded data removed]",
      "text/plain": [
       "<matplotlib.figure.Figure at 0x7f3b1b25d7b8>"
      ]
     },
     "metadata": {},
     "output_type": "display_data"
    }
   ],
   "source": [
    "# broj iteracije na x osi, cena na y\n",
    "plt.plot(np.arange(O),niz)\n",
    "#plt.plot(np.arange(O),np.log(niz))"
   ]
  },
  {
   "cell_type": "code",
   "execution_count": null,
   "metadata": {
    "collapsed": true
   },
   "outputs": [],
   "source": []
  }
 ],
 "metadata": {
  "kernelspec": {
   "display_name": "Python 3",
   "language": "python",
   "name": "python3"
  },
  "language_info": {
   "codemirror_mode": {
    "name": "ipython",
    "version": 3
   },
   "file_extension": ".py",
   "mimetype": "text/x-python",
   "name": "python",
   "nbconvert_exporter": "python",
   "pygments_lexer": "ipython3",
   "version": "3.6.0"
  }
 },
 "nbformat": 4,
 "nbformat_minor": 2
}
