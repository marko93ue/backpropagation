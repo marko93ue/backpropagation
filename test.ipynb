{
 "cells": [
  {
   "cell_type": "code",
   "execution_count": 134,
   "metadata": {
    "collapsed": false
   },
   "outputs": [],
   "source": [
    "import numpy as np\n",
    "import matplotlib.pyplot as plt\n",
    "import copy\n",
    "%matplotlib inline\n"
   ]
  },
  {
   "cell_type": "code",
   "execution_count": 135,
   "metadata": {
    "collapsed": false
   },
   "outputs": [],
   "source": [
    "#funkcije\n",
    "def target(x):\n",
    "    return 5*x\n",
    "\n",
    "def Sigmoid(x):\n",
    "    return 1.0/(1.0+np.exp(-x))\n",
    "\n",
    "def Error(h,Y):\n",
    "    return (h-Y)**2\n",
    "\n",
    "#Error = np.vectorize(Error)\n",
    "\n",
    "def dError(E):\n",
    "    return 2 * (E)\n",
    "\n",
    "def setUpW(L):\n",
    "    W = []\n",
    "    n = len(L)-1\n",
    "    for i in range (0,n):\n",
    "        W.append(0.2 * np.random.randn(L[i+1],L[i]))\n",
    "        #W[i] -= np.mean(W[i])\n",
    "    return W\n",
    "def setUpB(L):\n",
    "    B = []\n",
    "    n = len(L)-1\n",
    "    for i in range (0,n):\n",
    "        B.append(0.2 * np.random.randn(L[i+1],1))\n",
    "        #B[i] -= np.mean(B[i]) \n",
    "    return B\n",
    "\n",
    "def forward(X,Y,W,B,L):\n",
    "    H = []\n",
    "    A = []\n",
    "    n = len(L)-1\n",
    "    for i in range(0,n):\n",
    "        if i == 0:\n",
    "            A.append(copy.deepcopy(X))\n",
    "            H.append(copy.deepcopy(X))\n",
    "            a = W[i].dot(X)+ B[i]\n",
    "            A.append(a)\n",
    "            h = Sigmoid(a)\n",
    "            H.append(h)\n",
    "        elif i == n-1:\n",
    "            a = np.dot(W[i],h) + B[i]\n",
    "            A.append(a)\n",
    "            h = a\n",
    "            H.append(h)            \n",
    "        else:\n",
    "            a = W[i].dot(h) + B[i]\n",
    "            A.append(a)\n",
    "            h = Sigmoid(a)\n",
    "            H.append(h)\n",
    "    return (A,H)\n",
    "\n",
    "def backward(A,H,E,W,B,L,reg_param):\n",
    "    \n",
    "    d = dError(E)\n",
    "    k = len(L)-1\n",
    "    n = len(L)-1\n",
    "    dB = []\n",
    "    dW = []\n",
    "    while k>0:\n",
    "        #print (k)\n",
    "        if k == len(L) -1:\n",
    "            d = d * np.ones(H[k].shape)\n",
    "        else:\n",
    "            d= d * ( 1 - H[k]) * (H[k])\n",
    "            \n",
    "        \n",
    "        dB.insert(0,d + reg_param * 2 * H[len(L)-1] ) #  reg_param * 2 * H[len(L)-1] je izvod regularizacije\n",
    "        dW.insert(0,d*((H[k-1].T)) + reg_param * 2 * H[len(L)-1] )\n",
    "   \n",
    "        d = W[k-1].T.dot(d)\n",
    "        k = k-1\n",
    "    return (dW,dB)\n",
    "\n",
    "def iteracija(X,Y,W,B,L,ni,reg_param):\n",
    "    (A,H) = forward(X,Y,W,B,L)\n",
    "    h = H[len(L)-1]\n",
    "    E = Error(h,Y)\n",
    "    C = E + reg_param * h**2\n",
    "    (dW,dB) = backward(A,H,E,W,B,L,reg_param)\n",
    "    #print (dW)\n",
    "    Wr = []\n",
    "    Br = []\n",
    "    k = len(W)\n",
    "    for i in range(0, k):\n",
    "        Wr.append( W[i] - ni * dW[i])\n",
    "        Br.append( B[i] - ni * dB[i])\n",
    "    return (A,H,E,Wr,Br,C)"
   ]
  },
  {
   "cell_type": "code",
   "execution_count": null,
   "metadata": {
    "collapsed": false
   },
   "outputs": [],
   "source": []
  },
  {
   "cell_type": "code",
   "execution_count": 136,
   "metadata": {
    "collapsed": false
   },
   "outputs": [
    {
     "data": {
      "text/plain": [
       "4"
      ]
     },
     "execution_count": 136,
     "metadata": {},
     "output_type": "execute_result"
    }
   ],
   "source": [
    "#inicijalizacija\n",
    "L = [2,4,2,1]\n",
    "\n",
    "W = setUpW(L)\n",
    "B = setUpB(L)\n",
    "ni = 0.1\n",
    "reg_param = 0.1\n",
    "len(L)"
   ]
  },
  {
   "cell_type": "code",
   "execution_count": 137,
   "metadata": {
    "collapsed": false
   },
   "outputs": [],
   "source": [
    "#init trening podataka\n",
    "input_size = 100\n",
    "#X = np.empty([input_size,L[0],1])\n",
    "Y = np.empty([input_size])\n",
    "X = 0.2*np.random.randn(input_size,L[0],1)\n",
    "X[:] -= np.mean(X[:],axis=0)\n",
    "Y = 2*X[:,0,0]\n"
   ]
  },
  {
   "cell_type": "code",
   "execution_count": 138,
   "metadata": {
    "collapsed": false
   },
   "outputs": [
    {
     "data": {
      "text/plain": [
       "array([ 0.14799018,  0.91220673, -0.68336467, -0.8148323 ,  0.15044917,\n",
       "       -0.35752948,  1.20055035,  0.24117928, -0.51834727, -0.03653827,\n",
       "        0.16436431, -1.24862832, -0.93398777,  0.99580783,  0.64164967,\n",
       "        0.46990242, -0.33975512,  2.03292974, -0.66885268, -0.92081272,\n",
       "        1.16872193, -0.13398202,  0.69378906, -1.27395232,  0.55330839,\n",
       "        1.52188001,  0.25705551,  0.24774967, -1.52891128, -0.13840288,\n",
       "        0.83379813,  1.04314763,  0.10123041,  0.13394924, -1.95740557,\n",
       "        1.06329194,  0.48425075,  0.1380138 , -0.98834575, -1.07723828,\n",
       "       -2.33258508,  0.20317339, -1.59316492,  0.10733063, -1.97579518,\n",
       "       -1.49701104, -0.01885532, -0.15639601, -0.99158474, -2.0260604 ,\n",
       "        0.17772974,  0.21220676, -0.07380249,  0.08871125,  0.42869731,\n",
       "        1.00195823,  1.44090324,  0.60578792, -0.11856124, -1.18458503,\n",
       "       -0.4833003 ,  0.30217049,  2.3841073 , -0.18007838, -0.88153812,\n",
       "        1.26446858, -0.50843505, -0.82932472,  1.00912299, -1.60729808,\n",
       "        1.45533741,  0.82880667,  0.62891804, -1.61610683,  0.56137529,\n",
       "        0.27685656,  1.60977695, -0.41157268, -0.78232318,  0.63197285,\n",
       "        0.89339003,  0.50837418, -0.27376474,  0.486319  , -0.16261083,\n",
       "        0.6868331 , -0.69935689,  0.4480571 ,  0.40999796,  0.25555263,\n",
       "        0.497359  , -0.4600838 ,  0.46345776, -0.69316812, -0.23039071,\n",
       "        2.52886835,  0.68385206,  0.39682367,  0.21670203,  0.08454535])"
      ]
     },
     "execution_count": 138,
     "metadata": {},
     "output_type": "execute_result"
    }
   ],
   "source": [
    "#treniranje\n",
    "niz = np.empty([input_size])\n",
    "for i in (0,input_size-1):\n",
    "    (A,H,E,W,B,C) = iteracija(X[i],Y[i],W,B,L,ni,reg_param)\n",
    "    niz[i] = E\n",
    "niz"
   ]
  },
  {
   "cell_type": "code",
   "execution_count": 139,
   "metadata": {
    "collapsed": false
   },
   "outputs": [
    {
     "data": {
      "text/plain": [
       "[<matplotlib.lines.Line2D at 0x7f95b02b3ba8>]"
      ]
     },
     "execution_count": 139,
     "metadata": {},
     "output_type": "execute_result"
    },
    {
     "data": {
      "image/png": "[encoded data removed]",
      "text/plain": [
       "<matplotlib.figure.Figure at 0x7f95b0343940>"
      ]
     },
     "metadata": {},
     "output_type": "display_data"
    }
   ],
   "source": [
    "plt.plot(np.arange(input_size),(niz))\n",
    "#plt.ylim([-0.1,1000])"
   ]
  },
  {
   "cell_type": "code",
   "execution_count": 140,
   "metadata": {
    "collapsed": false
   },
   "outputs": [],
   "source": [
    "(A,H) = forward(np.array([[-0.7],[0.85]]),Y,W,B,L)"
   ]
  },
  {
   "cell_type": "code",
   "execution_count": 141,
   "metadata": {
    "collapsed": false
   },
   "outputs": [
    {
     "data": {
      "text/plain": [
       "[array([[-0.7 ],\n",
       "        [ 0.85]]), array([[ 0.45788367],\n",
       "        [ 0.44833381],\n",
       "        [ 0.55676901],\n",
       "        [ 0.52140692]]), array([[ 0.52388055],\n",
       "        [ 0.44125889]]), array([[ 0.40151961]])]"
      ]
     },
     "execution_count": 141,
     "metadata": {},
     "output_type": "execute_result"
    }
   ],
   "source": [
    "H"
   ]
  },
  {
   "cell_type": "code",
   "execution_count": 152,
   "metadata": {
    "collapsed": false
   },
   "outputs": [],
   "source": [
    "test_size = 50\n",
    "\n",
    "Yt = np.empty([test_size])\n",
    "Xt = 0.2*np.random.randn(test_size,L[0],1)+1\n",
    "Xt -= np.mean(Xt,axis=0)\n",
    "Yt = 2*Xt[:,0,0]\n"
   ]
  },
  {
   "cell_type": "code",
   "execution_count": 153,
   "metadata": {
    "collapsed": false
   },
   "outputs": [
    {
     "data": {
      "text/plain": [
       "array([  4.01672372e-001,   4.94065646e-324,   9.88131292e-324,\n",
       "         1.48219694e-323,   1.97626258e-323,   2.47032823e-323,\n",
       "         2.96439388e-323,   3.45845952e-323,   3.95252517e-323,\n",
       "         4.44659081e-323,   4.94065646e-323,   5.43472210e-323,\n",
       "         5.92878775e-323,   6.42285340e-323,   6.91691904e-323,\n",
       "         7.41098469e-323,   7.90505033e-323,   8.39911598e-323,\n",
       "         8.89318163e-323,   9.38724727e-323,   9.88131292e-323,\n",
       "         1.03753786e-322,   1.08694442e-322,   1.13635099e-322,\n",
       "         1.18575755e-322,   1.23516411e-322,   1.28457068e-322,\n",
       "         1.33397724e-322,   1.38338381e-322,   1.43279037e-322,\n",
       "         1.48219694e-322,   1.53160350e-322,   1.58101007e-322,\n",
       "         1.63041663e-322,   1.67982320e-322,   1.72922976e-322,\n",
       "         1.77863633e-322,   1.82804289e-322,   1.87744945e-322,\n",
       "         1.92685602e-322,   1.97626258e-322,   2.02566915e-322,\n",
       "         2.07507571e-322,   2.12448228e-322,   2.17388884e-322,\n",
       "         2.22329541e-322,   2.27270197e-322,   2.32210854e-322,\n",
       "         2.37151510e-322,   4.01748229e-001])"
      ]
     },
     "execution_count": 153,
     "metadata": {},
     "output_type": "execute_result"
    }
   ],
   "source": [
    "nizT = np.empty([test_size])\n",
    "for i in (0,test_size-1):\n",
    "    (A,H) = forward(Xt[i],Yt[i],W,B,L)\n",
    "    nizT[i] =np.sum( H[len(L)-1])\n",
    "nizT"
   ]
  },
  {
   "cell_type": "code",
   "execution_count": 154,
   "metadata": {
    "collapsed": false
   },
   "outputs": [
    {
     "data": {
      "text/plain": [
       "[<matplotlib.lines.Line2D at 0x7f95b02596d8>]"
      ]
     },
     "execution_count": 154,
     "metadata": {},
     "output_type": "execute_result"
    },
    {
     "data": {
      "image/png": "[encoded data removed]",
      "text/plain": [
       "<matplotlib.figure.Figure at 0x7f95b016e160>"
      ]
     },
     "metadata": {},
     "output_type": "display_data"
    }
   ],
   "source": [
    "plt.scatter(nizT,Yt)\n",
    "plt.plot(np.arange(-2,4), 2* np.arange(-2,4),color =\"r\")\n",
    "#plt.xlim([-1,5])"
   ]
  },
  {
   "cell_type": "code",
   "execution_count": 155,
   "metadata": {
    "collapsed": false
   },
   "outputs": [
    {
     "data": {
      "text/plain": [
       "array([[ 0.40167237]])"
      ]
     },
     "execution_count": 155,
     "metadata": {},
     "output_type": "execute_result"
    }
   ],
   "source": [
    "i =0\n",
    "W[2].dot(Sigmoid(W[1].dot(Sigmoid(W[0].dot(Xt[i]) + B[0])) + B[1])) + B[2]"
   ]
  },
  {
   "cell_type": "code",
   "execution_count": null,
   "metadata": {
    "collapsed": true
   },
   "outputs": [],
   "source": []
  }
 ],
 "metadata": {
  "kernelspec": {
   "display_name": "Python 3",
   "language": "python",
   "name": "python3"
  },
  "language_info": {
   "codemirror_mode": {
    "name": "ipython",
    "version": 3
   },
   "file_extension": ".py",
   "mimetype": "text/x-python",
   "name": "python",
   "nbconvert_exporter": "python",
   "pygments_lexer": "ipython3",
   "version": "3.6.0"
  }
 },
 "nbformat": 4,
 "nbformat_minor": 2
}
