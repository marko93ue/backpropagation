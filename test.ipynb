{
 "cells": [
  {
   "cell_type": "code",
   "execution_count": 446,
   "metadata": {
    "collapsed": false
   },
   "outputs": [],
   "source": [
    "import numpy as np\n",
    "import matplotlib.pyplot as plt\n",
    "import copy\n",
    "%matplotlib inline\n"
   ]
  },
  {
   "cell_type": "code",
   "execution_count": 447,
   "metadata": {
    "collapsed": false
   },
   "outputs": [],
   "source": [
    "#funkcije\n",
    "def target(x):\n",
    "    return 5*x\n",
    "\n",
    "def Sigmoid(x):\n",
    "    return 1.0/(1.0+np.exp(-x))\n",
    "\n",
    "def Relu(x):\n",
    "    return x if (x > 0) else 0\n",
    "\n",
    "Relu = np.vectorize(Relu)\n",
    "\n",
    "def dRelu(x):\n",
    "    return 0 if x<0 else 1;\n",
    "\n",
    "dRelu = np.vectorize(dRelu)\n",
    "\n",
    "def Error(h,Y):\n",
    "    return ((h-Y)**2)\n",
    "\n",
    "#Error = np.vectorize(Error)\n",
    "\n",
    "def dError(E):\n",
    "    return 2 * (E)\n",
    "\n",
    "def setUpW(L):\n",
    "    W = []\n",
    "    n = len(L)-1\n",
    "    for i in range (0,n):\n",
    "        if i == n-1:\n",
    "            W.append(np.ones((L[i+1],L[i])))\n",
    "        else:    \n",
    "            W.append(0.1 * np.random.randn(L[i+1],L[i])+0.1)\n",
    "        #W[i] -= np.mean(W[i])\n",
    "    return W\n",
    "def setUpB(L):\n",
    "    B = []\n",
    "    n = len(L)-1\n",
    "    for i in range (0,n):\n",
    "        if i == n-1:\n",
    "            B.append(np.zeros((L[i+1],1)))\n",
    "        else:\n",
    "            B.append(0.1 * np.random.randn(L[i+1],1)+0.1)\n",
    "        #B[i] -= np.mean(B[i]) \n",
    "    return B\n",
    "\n",
    "def forward(X,Y,W,B,L):\n",
    "    H = []\n",
    "    A = []\n",
    "    n = len(L)-1\n",
    "    for i in range(0,n):\n",
    "        if i == 0:\n",
    "            A.append(copy.deepcopy(X))\n",
    "            H.append(copy.deepcopy(X))\n",
    "            a = W[i].dot(X)+ B[i]\n",
    "            A.append(a)\n",
    "            h = Relu(a)\n",
    "            H.append(h)\n",
    "        elif i == n-1:\n",
    "            a = np.dot(W[i],h) + B[i]\n",
    "            A.append(a)\n",
    "            h = a\n",
    "            H.append(h)            \n",
    "        else:\n",
    "            a = W[i].dot(h) + B[i]\n",
    "            A.append(a)\n",
    "            h = Relu(a)\n",
    "            H.append(h)\n",
    "    return (A,H)\n",
    "\n",
    "def backward(A,H,E,W,B,L,reg_param):\n",
    "    \n",
    "    d = dError(E)\n",
    "    k = len(L)-1\n",
    "    n = len(L)-1\n",
    "    dB = []\n",
    "    dW = []\n",
    "    while k>0:\n",
    "        #print (k)\n",
    "        if k == len(L) -1:\n",
    "            d = d * np.ones(H[k].shape)\n",
    "        else:\n",
    "            d= d * dRelu(H[k])\n",
    "            \n",
    "        \n",
    "        dB.insert(0,d + reg_param * 2 * (H[n]) ) #  reg_param * 2 * H[len(L)-1] je izvod regularizacije\n",
    "        dW.insert(0,d*((H[k-1].T)) + reg_param * 2 * (H[n]) )\n",
    "   \n",
    "        d = W[k-1].T.dot(d)\n",
    "        k = k-1\n",
    "    return (dW,dB)\n",
    "\n",
    "def iteracija(X,Y,W,B,L,ni,reg_param):\n",
    "    (A,H) = forward(X,Y,W,B,L)\n",
    "    h = H[len(L)-1][0,0]\n",
    "    #print (h)\n",
    "    #print (Y)\n",
    "    #E = Error(h,Y)\n",
    "    E = (h-Y)**2\n",
    "    C = E + reg_param * (h**2)\n",
    "    (dW,dB) = backward(A,H,E,W,B,L,reg_param)\n",
    "    #print (dW)\n",
    "    Wr = []\n",
    "    Br = []\n",
    "    k = len(W)\n",
    "    for i in range(0, k):\n",
    "        if i == k-1:\n",
    "            Wr.append(W[i])\n",
    "            Br.append(B[i])\n",
    "        else:\n",
    "            Wr.append( W[i] - ni * dW[i])\n",
    "            Br.append( B[i] - ni * dB[i])\n",
    "    return (A,H,E,Wr,Br,C)"
   ]
  },
  {
   "cell_type": "code",
   "execution_count": null,
   "metadata": {
    "collapsed": false
   },
   "outputs": [],
   "source": []
  },
  {
   "cell_type": "code",
   "execution_count": null,
   "metadata": {
    "collapsed": false
   },
   "outputs": [],
   "source": []
  },
  {
   "cell_type": "code",
   "execution_count": 448,
   "metadata": {
    "collapsed": false
   },
   "outputs": [],
   "source": [
    "#inicijalizacija\n",
    "L = [2,11,7,1]\n",
    "\n",
    "W = setUpW(L)\n",
    "B = setUpB(L)\n",
    "ni = 0.00001"
   ]
  },
  {
   "cell_type": "code",
   "execution_count": 449,
   "metadata": {
    "collapsed": false
   },
   "outputs": [],
   "source": [
    "reg_param = 0.05"
   ]
  },
  {
   "cell_type": "code",
   "execution_count": 461,
   "metadata": {
    "collapsed": false
   },
   "outputs": [],
   "source": [
    "#init trening podataka\n",
    "input_size = 500\n",
    "\n",
    "\n",
    "Y = np.empty([input_size])\n",
    "X = np.random.randn(input_size,L[0],1)+4\n",
    "X -= np.mean(X,axis=0)\n",
    "X /= np.std(X, axis = 0)\n",
    "\n",
    "\n",
    "Y = X[:,0,0] + X[:,1,0]\n"
   ]
  },
  {
   "cell_type": "code",
   "execution_count": 462,
   "metadata": {
    "collapsed": false
   },
   "outputs": [],
   "source": [
    "#treniranje\n",
    "niz = []\n",
    "for i in range(0,input_size):\n",
    "    (A,H,E,W,B,C) = iteracija(X[i],Y[i],W,B,L,ni,reg_param)\n",
    "    niz.append(C)\n",
    "    #print (H[len(L)-1][0,0])\n",
    "    #print (E)\n"
   ]
  },
  {
   "cell_type": "code",
   "execution_count": 452,
   "metadata": {
    "collapsed": false,
    "scrolled": true
   },
   "outputs": [
    {
     "data": {
      "text/plain": [
       "[<matplotlib.lines.Line2D at 0x7ffb5cd31dd8>]"
      ]
     },
     "execution_count": 452,
     "metadata": {},
     "output_type": "execute_result"
    },
    {
     "data": {
      "image/png": "[encoded data removed]",
      "text/plain": [
       "<matplotlib.figure.Figure at 0x7ffb5cec3358>"
      ]
     },
     "metadata": {},
     "output_type": "display_data"
    }
   ],
   "source": [
    "plt.plot(np.arange(input_size),np.array(niz))\n",
    "#plt.ylim([-0.1,1000])"
   ]
  },
  {
   "cell_type": "code",
   "execution_count": 453,
   "metadata": {
    "collapsed": false
   },
   "outputs": [],
   "source": [
    "(A,H) = forward(np.array([[1.],[1.185]]),Y,W,B,L)"
   ]
  },
  {
   "cell_type": "code",
   "execution_count": 454,
   "metadata": {
    "collapsed": false
   },
   "outputs": [
    {
     "data": {
      "text/plain": [
       "[array([[ 1.   ],\n",
       "        [ 1.185]]), array([[ 0.30474044],\n",
       "        [ 0.        ],\n",
       "        [ 0.07203989],\n",
       "        [ 0.17938474],\n",
       "        [ 0.19679252],\n",
       "        [ 0.22593248],\n",
       "        [ 0.43926754],\n",
       "        [ 0.2050106 ],\n",
       "        [ 0.4008424 ],\n",
       "        [ 0.30568244],\n",
       "        [ 0.70474521]]), array([[ 0.31863522],\n",
       "        [ 0.67177577],\n",
       "        [ 0.33678034],\n",
       "        [ 0.1523412 ],\n",
       "        [ 0.44014451],\n",
       "        [ 0.25471365],\n",
       "        [ 0.47273408]]), array([[ 2.64712476]])]"
      ]
     },
     "execution_count": 454,
     "metadata": {},
     "output_type": "execute_result"
    }
   ],
   "source": [
    "H"
   ]
  },
  {
   "cell_type": "code",
   "execution_count": 455,
   "metadata": {
    "collapsed": false
   },
   "outputs": [
    {
     "data": {
      "text/plain": [
       "(100,)"
      ]
     },
     "execution_count": 455,
     "metadata": {},
     "output_type": "execute_result"
    }
   ],
   "source": [
    "test_size = 100\n",
    "\n",
    "Yt = np.empty([test_size])\n",
    "Xt = np.random.randn(test_size,L[0],1)+5\n",
    "\n",
    "Yt = (Xt[:,1,0]+Xt[:,0,0] )\n",
    "Yt.shape"
   ]
  },
  {
   "cell_type": "code",
   "execution_count": 456,
   "metadata": {
    "collapsed": false
   },
   "outputs": [
    {
     "data": {
      "text/plain": [
       "100"
      ]
     },
     "execution_count": 456,
     "metadata": {},
     "output_type": "execute_result"
    }
   ],
   "source": [
    "nizT = []\n",
    "for i in range(0,test_size):\n",
    "    (A,H) = forward(Xt[i],Yt[i],W,B,L)\n",
    "    nizT.append( H[len(L)-1][0,0])\n",
    "len(nizT)"
   ]
  },
  {
   "cell_type": "code",
   "execution_count": 457,
   "metadata": {
    "collapsed": false
   },
   "outputs": [
    {
     "data": {
      "text/plain": [
       "[<matplotlib.lines.Line2D at 0x7ffb5cd4c828>]"
      ]
     },
     "execution_count": 457,
     "metadata": {},
     "output_type": "execute_result"
    },
    {
     "data": {
      "image/png": "[encoded data removed]",
      "text/plain": [
       "<matplotlib.figure.Figure at 0x7ffb5cd4c940>"
      ]
     },
     "metadata": {},
     "output_type": "display_data"
    }
   ],
   "source": [
    "plt.scatter(nizT,Yt)\n",
    "plt.plot(np.arange(-4,14), np.arange(-4,14),color =\"r\")\n",
    "#plt.ylim([-2,4])"
   ]
  },
  {
   "cell_type": "code",
   "execution_count": null,
   "metadata": {
    "collapsed": false
   },
   "outputs": [],
   "source": []
  },
  {
   "cell_type": "code",
   "execution_count": 458,
   "metadata": {
    "collapsed": false
   },
   "outputs": [
    {
     "data": {
      "text/plain": [
       "array([[1, 1, 0],\n",
       "       [0, 0, 0]])"
      ]
     },
     "execution_count": 458,
     "metadata": {},
     "output_type": "execute_result"
    }
   ],
   "source": [
    "dRelu( np.array([ [1,2,-3],[-2,-1,-.04]]))"
   ]
  },
  {
   "cell_type": "code",
   "execution_count": 459,
   "metadata": {
    "collapsed": false
   },
   "outputs": [
    {
     "data": {
      "text/plain": [
       "[array([[ 0.08019838,  0.07803123],\n",
       "        [-0.00518475,  0.01665072],\n",
       "        [ 0.02596421,  0.094555  ],\n",
       "        [ 0.17089463,  0.085182  ],\n",
       "        [ 0.13519602, -0.11000156],\n",
       "        [ 0.15822618, -0.02946992],\n",
       "        [ 0.06037018,  0.09993323],\n",
       "        [ 0.04758288,  0.0028115 ],\n",
       "        [ 0.15621517,  0.15007674],\n",
       "        [ 0.04310433,  0.13145061],\n",
       "        [ 0.24880687,  0.17327648]]),\n",
       " array([[ 0.0879722 ,  0.01508967,  0.01936622,  0.03680616, -0.01139598,\n",
       "          0.07685089,  0.10547962,  0.03344511,  0.01874072,  0.11463192,\n",
       "          0.03817454],\n",
       "        [-0.18366459, -0.06748232,  0.08678358,  0.07249615,  0.08335757,\n",
       "          0.28172392,  0.29690359,  0.23227994,  0.2702992 ,  0.15838907,\n",
       "          0.13867294],\n",
       "        [-0.09187836, -0.12180158, -0.00206389,  0.11548674,  0.2153466 ,\n",
       "          0.1111903 , -0.043716  ,  0.12226753,  0.05437476,  0.05553869,\n",
       "          0.16119941],\n",
       "        [ 0.01246784, -0.00131978,  0.02965931,  0.23371789, -0.12805541,\n",
       "          0.02238469,  0.0891746 ,  0.05991185,  0.15287852,  0.23501778,\n",
       "          0.10721289],\n",
       "        [ 0.2638747 ,  0.07530395,  0.10497068, -0.14698871,  0.08088069,\n",
       "          0.2185815 , -0.01582214,  0.25017586,  0.05479255,  0.15300076,\n",
       "          0.23858785],\n",
       "        [ 0.12193079,  0.19351015,  0.10383832,  0.22926135,  0.21295505,\n",
       "          0.14388637,  0.11488714,  0.12353692,  0.09525669, -0.03806756,\n",
       "          0.05210672],\n",
       "        [ 0.15994431,  0.12317957,  0.25509719,  0.05440528,  0.18963985,\n",
       "         -0.04181318,  0.13346242,  0.15149604,  0.0181899 ,  0.25638943,\n",
       "          0.17732709]]),\n",
       " array([[ 1.,  1.,  1.,  1.,  1.,  1.,  1.]])]"
      ]
     },
     "execution_count": 459,
     "metadata": {},
     "output_type": "execute_result"
    }
   ],
   "source": [
    "W"
   ]
  },
  {
   "cell_type": "code",
   "execution_count": 460,
   "metadata": {
    "collapsed": false
   },
   "outputs": [
    {
     "data": {
      "text/plain": [
       "[array([[ 0.13207505],\n",
       "        [-0.08029698],\n",
       "        [-0.06597199],\n",
       "        [-0.09245056],\n",
       "        [ 0.19194835],\n",
       "        [ 0.10262816],\n",
       "        [ 0.26047648],\n",
       "        [ 0.15409609],\n",
       "        [ 0.06678629],\n",
       "        [ 0.10680913],\n",
       "        [ 0.25060571]]), array([[ 0.14606171],\n",
       "        [ 0.19590129],\n",
       "        [ 0.11847086],\n",
       "        [-0.13551026],\n",
       "        [ 0.03202029],\n",
       "        [-0.04452751],\n",
       "        [ 0.06766373]]), array([[ 0.]])]"
      ]
     },
     "execution_count": 460,
     "metadata": {},
     "output_type": "execute_result"
    }
   ],
   "source": [
    "B"
   ]
  },
  {
   "cell_type": "code",
   "execution_count": null,
   "metadata": {
    "collapsed": true
   },
   "outputs": [],
   "source": []
  }
 ],
 "metadata": {
  "kernelspec": {
   "display_name": "Python 3",
   "language": "python",
   "name": "python3"
  },
  "language_info": {
   "codemirror_mode": {
    "name": "ipython",
    "version": 3
   },
   "file_extension": ".py",
   "mimetype": "text/x-python",
   "name": "python",
   "nbconvert_exporter": "python",
   "pygments_lexer": "ipython3",
   "version": "3.6.0"
  }
 },
 "nbformat": 4,
 "nbformat_minor": 2
}
