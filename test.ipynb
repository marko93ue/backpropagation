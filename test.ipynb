{
 "cells": [
  {
   "cell_type": "code",
   "execution_count": 51,
   "metadata": {
    "collapsed": false
   },
   "outputs": [],
   "source": [
    "import numpy as np\n",
    "import matplotlib.pyplot as plt\n",
    "import copy\n",
    "%matplotlib inline\n"
   ]
  },
  {
   "cell_type": "code",
   "execution_count": 52,
   "metadata": {
    "collapsed": false
   },
   "outputs": [],
   "source": [
    "#funkcije\n",
    "def target(x):\n",
    "    return 5*x\n",
    "\n",
    "def Sigmoid(x):\n",
    "    return 1.0/(1.0+np.exp(-x))\n",
    "\n",
    "def Error(h,Y):\n",
    "    return ((h-Y)**2)\n",
    "\n",
    "#Error = np.vectorize(Error)\n",
    "\n",
    "def dError(E):\n",
    "    return 2 * (E)\n",
    "\n",
    "def setUpW(L):\n",
    "    W = []\n",
    "    n = len(L)-1\n",
    "    for i in range (0,n):\n",
    "        W.append(0.2 * np.random.randn(L[i+1],L[i]))\n",
    "        W[i] -= np.mean(W[i])\n",
    "    return W\n",
    "def setUpB(L):\n",
    "    B = []\n",
    "    n = len(L)-1\n",
    "    for i in range (0,n):\n",
    "        B.append(0.2 * np.random.randn(L[i+1],1))\n",
    "        B[i] -= np.mean(B[i]) \n",
    "    return B\n",
    "\n",
    "def forward(X,Y,W,B,L):\n",
    "    H = []\n",
    "    A = []\n",
    "    n = len(L)-1\n",
    "    for i in range(0,n):\n",
    "        if i == 0:\n",
    "            A.append(copy.deepcopy(X))\n",
    "            H.append(copy.deepcopy(X))\n",
    "            a = W[i].dot(X)+ B[i]\n",
    "            A.append(a)\n",
    "            h = Sigmoid(a)\n",
    "            H.append(h)\n",
    "        elif i == n-1:\n",
    "            a = np.dot(W[i],h) + B[i]\n",
    "            A.append(a)\n",
    "            h = a\n",
    "            H.append(h)            \n",
    "        else:\n",
    "            a = W[i].dot(h) + B[i]\n",
    "            A.append(a)\n",
    "            h = Sigmoid(a)\n",
    "            H.append(h)\n",
    "    return (A,H)\n",
    "\n",
    "def backward(A,H,E,W,B,L,reg_param):\n",
    "    \n",
    "    d = dError(E)\n",
    "    k = len(L)-1\n",
    "    n = len(L)-1\n",
    "    dB = []\n",
    "    dW = []\n",
    "    while k>0:\n",
    "        #print (k)\n",
    "        if k == len(L) -1:\n",
    "            d = d * np.ones(H[k].shape)\n",
    "        else:\n",
    "            d= d * ( 1 - H[k]) * (H[k])\n",
    "            \n",
    "        \n",
    "        dB.insert(0,d + reg_param * 2 * np.abs(H[n]) ) #  reg_param * 2 * H[len(L)-1] je izvod regularizacije\n",
    "        dW.insert(0,d*((H[k-1].T)) + reg_param * 2 * np.abs(H[n]) )\n",
    "   \n",
    "        d = W[k-1].T.dot(d)\n",
    "        k = k-1\n",
    "    return (dW,dB)\n",
    "\n",
    "def iteracija(X,Y,W,B,L,ni,reg_param):\n",
    "    (A,H) = forward(X,Y,W,B,L)\n",
    "    h = H[len(L)-1]\n",
    "    E = Error(h,Y)\n",
    "    C = E + reg_param * h**2\n",
    "    (dW,dB) = backward(A,H,E,W,B,L,reg_param)\n",
    "    #print (dW)\n",
    "    Wr = []\n",
    "    Br = []\n",
    "    k = len(W)\n",
    "    for i in range(0, k):\n",
    "        Wr.append( W[i] - ni * dW[i])\n",
    "        Br.append( B[i] - ni * dB[i])\n",
    "    return (A,H,E,Wr,Br,C)"
   ]
  },
  {
   "cell_type": "code",
   "execution_count": null,
   "metadata": {
    "collapsed": false
   },
   "outputs": [],
   "source": []
  },
  {
   "cell_type": "code",
   "execution_count": null,
   "metadata": {
    "collapsed": false
   },
   "outputs": [],
   "source": []
  },
  {
   "cell_type": "code",
   "execution_count": 53,
   "metadata": {
    "collapsed": false
   },
   "outputs": [
    {
     "data": {
      "text/plain": [
       "5"
      ]
     },
     "execution_count": 53,
     "metadata": {},
     "output_type": "execute_result"
    }
   ],
   "source": [
    "#inicijalizacija\n",
    "L = [2,18,9,4,1]\n",
    "\n",
    "W = setUpW(L)\n",
    "B = setUpB(L)\n",
    "ni = 1e-3\n",
    "\n",
    "len(L)"
   ]
  },
  {
   "cell_type": "code",
   "execution_count": 54,
   "metadata": {
    "collapsed": true
   },
   "outputs": [],
   "source": [
    "reg_param = .01"
   ]
  },
  {
   "cell_type": "code",
   "execution_count": 55,
   "metadata": {
    "collapsed": false
   },
   "outputs": [],
   "source": [
    "#init trening podataka\n",
    "input_size = 100\n",
    "\n",
    "Y = np.empty([input_size])\n",
    "X = np.random.randn(input_size,L[0],1)\n",
    "X[:] -= np.mean(X[:],axis=0)\n",
    "Y = X[:,0,0]\n"
   ]
  },
  {
   "cell_type": "code",
   "execution_count": 56,
   "metadata": {
    "collapsed": false
   },
   "outputs": [
    {
     "data": {
      "text/plain": [
       "array([  4.29858460e-001,   4.94065646e-324,   9.88131292e-324,\n",
       "         1.48219694e-323,   1.97626258e-323,   2.47032823e-323,\n",
       "         2.96439388e-323,   3.45845952e-323,   3.95252517e-323,\n",
       "         4.44659081e-323,   4.94065646e-323,   5.43472210e-323,\n",
       "         5.92878775e-323,   6.42285340e-323,   6.91691904e-323,\n",
       "         7.41098469e-323,   7.90505033e-323,   8.39911598e-323,\n",
       "         8.89318163e-323,   9.38724727e-323,   9.88131292e-323,\n",
       "         1.03753786e-322,   1.08694442e-322,   1.13635099e-322,\n",
       "         1.18575755e-322,   1.23516411e-322,   1.28457068e-322,\n",
       "         1.33397724e-322,   1.38338381e-322,   1.43279037e-322,\n",
       "         1.48219694e-322,   1.53160350e-322,   1.58101007e-322,\n",
       "         1.63041663e-322,   1.67982320e-322,   1.72922976e-322,\n",
       "         1.77863633e-322,   1.82804289e-322,   1.87744945e-322,\n",
       "         1.92685602e-322,   1.97626258e-322,   2.02566915e-322,\n",
       "         2.07507571e-322,   2.12448228e-322,   2.17388884e-322,\n",
       "         2.22329541e-322,   2.27270197e-322,   2.32210854e-322,\n",
       "         2.37151510e-322,   2.42092166e-322,   2.47032823e-322,\n",
       "         2.51973479e-322,   2.56914136e-322,   2.61854792e-322,\n",
       "         2.66795449e-322,   2.71736105e-322,   2.76676762e-322,\n",
       "         2.81617418e-322,   2.86558075e-322,   2.91498731e-322,\n",
       "         2.96439388e-322,   3.01380044e-322,   3.06320700e-322,\n",
       "         3.11261357e-322,   3.16202013e-322,   3.21142670e-322,\n",
       "         3.26083326e-322,   3.31023983e-322,   3.35964639e-322,\n",
       "         3.40905296e-322,   3.45845952e-322,   3.50786609e-322,\n",
       "         3.55727265e-322,   3.60667921e-322,   3.65608578e-322,\n",
       "         3.70549234e-322,   3.75489891e-322,   3.80430547e-322,\n",
       "         3.85371204e-322,   3.90311860e-322,   3.95252517e-322,\n",
       "         4.00193173e-322,   4.05133830e-322,   4.10074486e-322,\n",
       "         4.15015143e-322,   4.19955799e-322,   4.24896455e-322,\n",
       "         4.29837112e-322,   4.34777768e-322,   4.39718425e-322,\n",
       "         4.44659081e-322,   4.49599738e-322,   4.54540394e-322,\n",
       "         4.59481051e-322,   4.64421707e-322,   4.69362364e-322,\n",
       "         4.74303020e-322,   4.79243676e-322,   4.84184333e-322,\n",
       "         6.17769669e-001])"
      ]
     },
     "execution_count": 56,
     "metadata": {},
     "output_type": "execute_result"
    }
   ],
   "source": [
    "#treniranje\n",
    "niz = np.empty([input_size])\n",
    "for i in (0,input_size-1):\n",
    "    (A,H,E,W,B,C) = iteracija(X[i],Y[i],W,B,L,ni,reg_param)\n",
    "    niz[i] =C\n",
    "niz"
   ]
  },
  {
   "cell_type": "code",
   "execution_count": 57,
   "metadata": {
    "collapsed": false
   },
   "outputs": [
    {
     "data": {
      "text/plain": [
       "<matplotlib.collections.PathCollection at 0x7f1df525d780>"
      ]
     },
     "execution_count": 57,
     "metadata": {},
     "output_type": "execute_result"
    },
    {
     "data": {
      "image/png": "[encoded data removed]",
      "text/plain": [
       "<matplotlib.figure.Figure at 0x7f1df53079b0>"
      ]
     },
     "metadata": {},
     "output_type": "display_data"
    }
   ],
   "source": [
    "plt.scatter(np.arange(input_size),(niz))\n",
    "#plt.ylim([-0.1,1000])"
   ]
  },
  {
   "cell_type": "code",
   "execution_count": 58,
   "metadata": {
    "collapsed": false
   },
   "outputs": [],
   "source": [
    "(A,H) = forward(np.array([[-0.7],[0.85]]),Y,W,B,L)"
   ]
  },
  {
   "cell_type": "code",
   "execution_count": 59,
   "metadata": {
    "collapsed": false
   },
   "outputs": [
    {
     "data": {
      "text/plain": [
       "[array([[-0.7 ],\n",
       "        [ 0.85]]), array([[ 0.48166632],\n",
       "        [ 0.45369068],\n",
       "        [ 0.52889367],\n",
       "        [ 0.44583537],\n",
       "        [ 0.58509784],\n",
       "        [ 0.43789889],\n",
       "        [ 0.44782   ],\n",
       "        [ 0.55398521],\n",
       "        [ 0.46611845],\n",
       "        [ 0.515679  ],\n",
       "        [ 0.4871335 ],\n",
       "        [ 0.42262359],\n",
       "        [ 0.40133114],\n",
       "        [ 0.53558797],\n",
       "        [ 0.48255995],\n",
       "        [ 0.36708671],\n",
       "        [ 0.41496254],\n",
       "        [ 0.54962194]]), array([[ 0.33279636],\n",
       "        [ 0.43077048],\n",
       "        [ 0.32249982],\n",
       "        [ 0.65512894],\n",
       "        [ 0.5796102 ],\n",
       "        [ 0.46382474],\n",
       "        [ 0.55481671],\n",
       "        [ 0.60877468],\n",
       "        [ 0.5387949 ]]), array([[ 0.44518539],\n",
       "        [ 0.41876395],\n",
       "        [ 0.55036754],\n",
       "        [ 0.57639637]]), array([[-0.03175895]])]"
      ]
     },
     "execution_count": 59,
     "metadata": {},
     "output_type": "execute_result"
    }
   ],
   "source": [
    "H"
   ]
  },
  {
   "cell_type": "code",
   "execution_count": 60,
   "metadata": {
    "collapsed": false
   },
   "outputs": [],
   "source": [
    "test_size = 50\n",
    "\n",
    "Yt = np.empty([test_size])\n",
    "Xt = np.random.randn(test_size,L[0],1)\n",
    "Xt -= np.mean(Xt,axis=0)\n",
    "Yt = Xt[:,0,0]\n"
   ]
  },
  {
   "cell_type": "code",
   "execution_count": 61,
   "metadata": {
    "collapsed": false
   },
   "outputs": [
    {
     "data": {
      "text/plain": [
       "[array([[-0.57107973],\n",
       "        [ 0.37386861]]), array([[ 0.47352894],\n",
       "        [ 0.47821726],\n",
       "        [ 0.54049702],\n",
       "        [ 0.45608621],\n",
       "        [ 0.58825405],\n",
       "        [ 0.49782435],\n",
       "        [ 0.48775735],\n",
       "        [ 0.53716321],\n",
       "        [ 0.4768897 ],\n",
       "        [ 0.5338465 ],\n",
       "        [ 0.48929367],\n",
       "        [ 0.44010837],\n",
       "        [ 0.42938149],\n",
       "        [ 0.52269446],\n",
       "        [ 0.45235241],\n",
       "        [ 0.39586637],\n",
       "        [ 0.39249073],\n",
       "        [ 0.54978429]]), array([[ 0.32640769],\n",
       "        [ 0.42775818],\n",
       "        [ 0.32345731],\n",
       "        [ 0.65307911],\n",
       "        [ 0.58039416],\n",
       "        [ 0.46203832],\n",
       "        [ 0.55907449],\n",
       "        [ 0.60552305],\n",
       "        [ 0.53514553]]), array([[ 0.4443365 ],\n",
       "        [ 0.41912911],\n",
       "        [ 0.55053425],\n",
       "        [ 0.57564917]]), array([[-0.03178954]])]"
      ]
     },
     "execution_count": 61,
     "metadata": {},
     "output_type": "execute_result"
    }
   ],
   "source": [
    "nizT = np.empty([test_size])\n",
    "for i in (0,test_size-1):\n",
    "    (A,H) = forward(Xt[i],Yt[i],W,B,L)\n",
    "    nizT[i] =( H[len(L)-1])\n",
    "H"
   ]
  },
  {
   "cell_type": "code",
   "execution_count": 62,
   "metadata": {
    "collapsed": false
   },
   "outputs": [
    {
     "data": {
      "text/plain": [
       "[<matplotlib.lines.Line2D at 0x7f1df527e0b8>]"
      ]
     },
     "execution_count": 62,
     "metadata": {},
     "output_type": "execute_result"
    },
    {
     "data": {
      "image/png": "[encoded data removed]",
      "text/plain": [
       "<matplotlib.figure.Figure at 0x7f1df527e780>"
      ]
     },
     "metadata": {},
     "output_type": "display_data"
    }
   ],
   "source": [
    "plt.scatter(Yt,nizT)\n",
    "plt.plot(np.arange(-2,4), 2* np.arange(-2,4),color =\"r\")\n",
    "#plt.ylim([-2,4])"
   ]
  },
  {
   "cell_type": "code",
   "execution_count": 63,
   "metadata": {
    "collapsed": false
   },
   "outputs": [
    {
     "data": {
      "text/plain": [
       "[array([[-0.05320252,  0.0540961 ],\n",
       "        [ 0.15469794, -0.16516417],\n",
       "        [ 0.220818  , -0.03816633],\n",
       "        [-0.0839638 , -0.10969196],\n",
       "        [-0.04188332, -0.03867763],\n",
       "        [ 0.02196108, -0.50019765],\n",
       "        [-0.02227747, -0.34312875],\n",
       "        [ 0.13677457,  0.17955422],\n",
       "        [ 0.11688461, -0.05913976],\n",
       "        [ 0.01851815, -0.14800416],\n",
       "        [-0.10898742, -0.04766792],\n",
       "        [-0.10398755, -0.17788433],\n",
       "        [ 0.07238312, -0.22307917],\n",
       "        [ 0.03869238,  0.11917079],\n",
       "        [ 0.17273387,  0.30170418],\n",
       "        [ 0.30307406, -0.17420453],\n",
       "        [ 0.28262922,  0.27262122],\n",
       "        [-0.02019793, -0.00684646]]),\n",
       " array([[ -8.73074760e-02,   5.63011951e-03,  -1.87526089e-01,\n",
       "           3.73583884e-02,  -9.24331618e-02,   2.16844209e-01,\n",
       "           7.62153252e-02,   8.65199427e-02,  -1.36013253e-01,\n",
       "          -1.90917240e-01,  -2.51146303e-01,  -2.76709906e-01,\n",
       "          -4.33527770e-01,  -5.81351473e-01,   6.73762415e-01,\n",
       "          -3.61385361e-02,   2.61651062e-01,  -5.09693611e-02],\n",
       "        [ -1.75374121e-01,  -3.11857534e-01,  -6.58415837e-02,\n",
       "           6.02814534e-02,   2.44632123e-01,  -2.17117283e-01,\n",
       "          -1.72790557e-01,   1.28640058e-01,   2.30970657e-01,\n",
       "          -2.01715908e-01,  -1.87497928e-01,  -1.11919034e-01,\n",
       "           3.81818719e-01,  -9.96430182e-02,  -2.44950093e-02,\n",
       "           2.92483240e-01,   9.85858122e-02,  -1.37258894e-01],\n",
       "        [ -1.83498160e-01,  -1.28249058e-01,  -6.26889041e-01,\n",
       "           1.40836712e-01,   1.23053885e-01,   2.15316024e-05,\n",
       "           1.74843201e-01,   2.35451027e-01,  -1.42244048e-01,\n",
       "          -2.39939558e-01,   2.07063025e-02,   2.84652227e-01,\n",
       "           3.76402988e-03,   4.12167513e-02,  -2.11125310e-01,\n",
       "          -2.16938847e-01,  -4.27339889e-01,   4.78933878e-02],\n",
       "        [ -1.16660867e-01,   4.45585121e-03,   5.03734196e-02,\n",
       "           5.12758084e-02,   3.29564405e-03,   9.29291212e-02,\n",
       "           2.34994360e-01,   1.15640962e-02,   3.54240875e-01,\n",
       "          -3.70456498e-01,  -1.83288242e-01,   1.67403476e-01,\n",
       "          -6.50527165e-02,  -6.17169672e-03,   4.83439283e-01,\n",
       "          -3.30362364e-01,  -1.10764235e-02,  -4.52710460e-02],\n",
       "        [ -4.46842972e-02,   1.05152654e-02,   6.62691542e-02,\n",
       "           8.80926848e-02,   8.74671679e-02,   1.87269006e-01,\n",
       "          -2.92634646e-01,   2.22897265e-01,   1.02033640e-01,\n",
       "           8.45976956e-02,  -1.64145997e-01,  -1.79734339e-01,\n",
       "           4.42605978e-01,   3.90156269e-01,  -9.53961070e-02,\n",
       "          -1.89391223e-01,  -4.28541645e-02,  -3.35425929e-01],\n",
       "        [ -1.80333703e-01,   3.55355114e-01,  -1.85099810e-01,\n",
       "          -1.82910700e-02,  -2.35720763e-03,  -6.40085911e-02,\n",
       "          -1.48085312e-02,  -7.90343980e-02,   1.06705976e-01,\n",
       "           6.28745263e-02,  -6.77323550e-02,  -9.49635212e-02,\n",
       "          -4.10015411e-01,   1.10892902e-01,  -2.42389100e-02,\n",
       "           1.72456691e-01,   2.29171058e-01,  -1.69218381e-01],\n",
       "        [  2.86754461e-02,   2.13410505e-01,  -1.18096735e-01,\n",
       "           1.84204855e-01,  -1.05948699e-01,   8.61871634e-02,\n",
       "          -1.81181407e-01,  -7.48730474e-02,   8.40391771e-02,\n",
       "           1.30643586e-01,   4.42782314e-02,  -2.01958287e-01,\n",
       "           2.29222315e-01,  -3.78802347e-02,   1.96716041e-01,\n",
       "           2.85866077e-01,  -1.71887105e-01,  -1.63504737e-01],\n",
       "        [ -2.22649936e-01,   3.12795600e-01,   3.58428661e-02,\n",
       "          -2.00980234e-01,   3.59636758e-01,  -2.49322649e-01,\n",
       "           5.55522130e-02,   1.48861750e-01,   3.44787518e-02,\n",
       "           1.02764335e-01,  -6.01067561e-03,   2.06402082e-01,\n",
       "          -8.05989292e-02,   1.57050544e-01,  -1.16679410e-01,\n",
       "          -6.34305399e-02,   4.72822717e-01,  -1.89576797e-02],\n",
       "        [  9.25074148e-02,  -3.93473776e-03,   4.20237395e-01,\n",
       "          -2.21218529e-01,  -1.98339587e-01,  -2.99322041e-01,\n",
       "           1.95162693e-01,  -2.96331084e-02,  -1.68527451e-01,\n",
       "           1.97040201e-01,   3.02886670e-02,   9.42998591e-02,\n",
       "          -3.12827077e-02,  -4.71121047e-02,   3.40853320e-01,\n",
       "           1.46860899e-01,   1.46578856e-01,  -7.28138227e-02]]),\n",
       " array([[ 0.36712181, -0.07156325, -0.08556758, -0.19692101, -0.21723036,\n",
       "         -0.0983346 , -0.05802543,  0.07580662,  0.31271716],\n",
       "        [ 0.0206384 , -0.00772424,  0.20606083, -0.3092453 ,  0.35361488,\n",
       "         -0.29992598, -0.05929912, -0.09173626,  0.02229547],\n",
       "        [-0.39780628, -0.02301843, -0.04961929, -0.11531774, -0.07358951,\n",
       "          0.28621454, -0.16718326,  0.17549544,  0.07521315],\n",
       "        [ 0.02091785,  0.23689217, -0.0659009 ,  0.18440283,  0.08209236,\n",
       "         -0.03189116, -0.24746125,  0.16485165,  0.08299019]]),\n",
       " array([[ 0.10374186,  0.11355853, -0.1635583 , -0.05791845]])]"
      ]
     },
     "execution_count": 63,
     "metadata": {},
     "output_type": "execute_result"
    }
   ],
   "source": [
    "i =0\n",
    "W"
   ]
  },
  {
   "cell_type": "code",
   "execution_count": null,
   "metadata": {
    "collapsed": true
   },
   "outputs": [],
   "source": []
  },
  {
   "cell_type": "code",
   "execution_count": null,
   "metadata": {
    "collapsed": true
   },
   "outputs": [],
   "source": []
  }
 ],
 "metadata": {
  "kernelspec": {
   "display_name": "Python 3",
   "language": "python",
   "name": "python3"
  },
  "language_info": {
   "codemirror_mode": {
    "name": "ipython",
    "version": 3
   },
   "file_extension": ".py",
   "mimetype": "text/x-python",
   "name": "python",
   "nbconvert_exporter": "python",
   "pygments_lexer": "ipython3",
   "version": "3.6.0"
  }
 },
 "nbformat": 4,
 "nbformat_minor": 2
}
