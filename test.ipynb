{
 "cells": [
  {
   "cell_type": "code",
   "execution_count": 446,
   "metadata": {
    "collapsed": false
   },
   "outputs": [],
   "source": [
    "import numpy as np\n",
    "import matplotlib.pyplot as plt\n",
    "import copy\n",
    "%matplotlib inline\n"
   ]
  },
  {
   "cell_type": "code",
   "execution_count": 447,
   "metadata": {
    "collapsed": false
   },
   "outputs": [],
   "source": [
    "#funkcije\n",
    "\n",
    "def Sigmoid(x):\n",
    "    return 1.0/(1.0+np.exp(-x))\n",
    "\n",
    "def Relu(x):\n",
    "    return x if (x > 0) else 0\n",
    "\n",
    "Relu = np.vectorize(Relu)\n",
    "\n",
    "#izvod Relu\n",
    "def dRelu(x):\n",
    "    return 0 if x<0 else 1;\n",
    "\n",
    "dRelu = np.vectorize(dRelu)\n",
    "\n",
    "def Error(h,Y):\n",
    "    return ((h-Y)**2)\n",
    "\n",
    "\n",
    "\n",
    "def dError(E):\n",
    "    return 2 * (E)\n",
    "\n",
    "#init weights\n",
    "def setUpW(L):\n",
    "    W = []\n",
    "    n = len(L)-1\n",
    "    for i in range (0,n):\n",
    "        if i == n-1:\n",
    "            W.append(np.ones((L[i+1],L[i])))\n",
    "        else:    \n",
    "            W.append(0.1 * np.random.randn(L[i+1],L[i])+0.1)\n",
    "        #W[i] -= np.mean(W[i])\n",
    "    return W\n",
    "\n",
    "# init bias\n",
    "def setUpB(L):\n",
    "    B = []\n",
    "    n = len(L)-1\n",
    "    for i in range (0,n):\n",
    "        if i == n-1:\n",
    "            B.append(np.zeros((L[i+1],1)))\n",
    "        else:\n",
    "            B.append(0.1 * np.random.randn(L[i+1],1)+0.1)\n",
    "        #B[i] -= np.mean(B[i]) \n",
    "    return B\n",
    "\n",
    "# racuna aktivacije\n",
    "def forward(X,Y,W,B,L):\n",
    "    H = []\n",
    "    A = []\n",
    "    n = len(L)-1\n",
    "    for i in range(0,n):\n",
    "        if i == 0:\n",
    "            A.append(copy.deepcopy(X))\n",
    "            H.append(copy.deepcopy(X))\n",
    "            a = W[i].dot(X)+ B[i]\n",
    "            A.append(a)\n",
    "            h = Relu(a)\n",
    "            H.append(h)\n",
    "        elif i == n-1:\n",
    "            a = np.dot(W[i],h) + B[i]\n",
    "            A.append(a)\n",
    "            h = a\n",
    "            H.append(h)            \n",
    "        else:\n",
    "            a = W[i].dot(h) + B[i]\n",
    "            A.append(a)\n",
    "            h = Relu(a)\n",
    "            H.append(h)\n",
    "    return (A,H)\n",
    "\n",
    "# racuna gradijente\n",
    "def backward(A,H,E,W,B,L,reg_param):\n",
    "    \n",
    "    d = dError(E)\n",
    "    k = len(L)-1\n",
    "    n = len(L)-1\n",
    "    dB = []\n",
    "    dW = []\n",
    "    while k>0:\n",
    "        #print (k)\n",
    "        if k == len(L) -1:\n",
    "            d = d * np.ones(H[k].shape)\n",
    "        else:\n",
    "            d= d * dRelu(H[k])\n",
    "            \n",
    "        \n",
    "        dB.insert(0,d + reg_param * 2 * (H[n]) ) #  reg_param * 2 * H[len(L)-1] je izvod regularizacije\n",
    "        dW.insert(0,d*((H[k-1].T)) + reg_param * 2 * (H[n]) )\n",
    "   \n",
    "        d = W[k-1].T.dot(d)\n",
    "        k = k-1\n",
    "    return (dW,dB)\n",
    "#forward pass, backward pass & update W\n",
    "def iteracija(X,Y,W,B,L,ni,reg_param):\n",
    "    (A,H) = forward(X,Y,W,B,L)\n",
    "    h = H[len(L)-1][0,0]\n",
    "    #print (h)\n",
    "    #print (Y)\n",
    "    #E = Error(h,Y)\n",
    "    E = (h-Y)**2\n",
    "    C = E + reg_param * (h**2)\n",
    "    (dW,dB) = backward(A,H,E,W,B,L,reg_param)\n",
    "    #print (dW)\n",
    "    Wr = []\n",
    "    Br = []\n",
    "    k = len(W)\n",
    "    for i in range(0, k):\n",
    "        if i == k-1:\n",
    "            Wr.append(W[i])\n",
    "            Br.append(B[i])\n",
    "        else:\n",
    "            Wr.append( W[i] - ni * dW[i])\n",
    "            Br.append( B[i] - ni * dB[i])\n",
    "    return (A,H,E,Wr,Br,C)"
   ]
  },
  {
   "cell_type": "code",
   "execution_count": 448,
   "metadata": {
    "collapsed": false
   },
   "outputs": [],
   "source": [
    "#inicijalizacija\n",
    "\n",
    "#oblik mreze (uvek 1 izlaz zbog regresije)\n",
    "L = [2,11,7,1]\n",
    "\n",
    "W = setUpW(L)\n",
    "B = setUpB(L)\n",
    "ni = 0.00001"
   ]
  },
  {
   "cell_type": "code",
   "execution_count": 449,
   "metadata": {
    "collapsed": false
   },
   "outputs": [],
   "source": [
    "reg_param = 0.05"
   ]
  },
  {
   "cell_type": "code",
   "execution_count": 488,
   "metadata": {
    "collapsed": false
   },
   "outputs": [],
   "source": [
    "#init trening podataka\n",
    "input_size = 500\n",
    "\n",
    "\n",
    "Y = np.empty([input_size])\n",
    "X = np.random.randn(input_size,L[0],1)+4\n",
    "\n",
    "\n",
    "X -= np.mean(X,axis=0)\n",
    "X /= np.std(X, axis = 0)\n",
    "\n",
    "\n",
    "Y = X[:,0,0] + X[:,1,0]\n"
   ]
  },
  {
   "cell_type": "code",
   "execution_count": 489,
   "metadata": {
    "collapsed": false
   },
   "outputs": [],
   "source": [
    "#treniranje\n",
    "niz = []\n",
    "for i in range(0,input_size):\n",
    "    (A,H,E,W,B,C) = iteracija(X[i],Y[i],W,B,L,ni,reg_param)\n",
    "    niz.append(C)\n",
    "    #print (H[len(L)-1][0,0])\n",
    "    #print (E)\n"
   ]
  },
  {
   "cell_type": "code",
   "execution_count": 490,
   "metadata": {
    "collapsed": false,
    "scrolled": true
   },
   "outputs": [
    {
     "data": {
      "text/plain": [
       "[<matplotlib.lines.Line2D at 0x7ffb5c7a3dd8>]"
      ]
     },
     "execution_count": 490,
     "metadata": {},
     "output_type": "execute_result"
    },
    {
     "data": {
      "image/png": "[encoded data removed]",
      "text/plain": [
       "<matplotlib.figure.Figure at 0x7ffb5c860668>"
      ]
     },
     "metadata": {},
     "output_type": "display_data"
    }
   ],
   "source": [
    "# y osa cene, x osa iteracije\n",
    "plt.plot(np.arange(input_size),np.array(niz))\n",
    "#plt.ylim([-0.1,1000])"
   ]
  },
  {
   "cell_type": "code",
   "execution_count": 515,
   "metadata": {
    "collapsed": false
   },
   "outputs": [
    {
     "data": {
      "text/plain": [
       "array([[ 2.16267532]])"
      ]
     },
     "execution_count": 515,
     "metadata": {},
     "output_type": "execute_result"
    }
   ],
   "source": [
    "#mini test sabiranja\n",
    "(A,H) = forward(np.array([[1.],[1.185]]),Y,W,B,L)\n",
    "H[len(L)-1][0,0]"
   ]
  },
  {
   "cell_type": "code",
   "execution_count": 511,
   "metadata": {
    "collapsed": false
   },
   "outputs": [],
   "source": [
    "#generisanje testova\n",
    "test_size = 100\n",
    "\n",
    "Yt = np.empty([test_size])\n",
    "Xt = np.random.randn(test_size,L[0],1)*1.5+3\n",
    "\n",
    "#ocekivan izlaz\n",
    "Yt = (Xt[:,1,0]+Xt[:,0,0] )\n"
   ]
  },
  {
   "cell_type": "code",
   "execution_count": 512,
   "metadata": {
    "collapsed": false
   },
   "outputs": [],
   "source": [
    "#testiranje\n",
    "nizT = []\n",
    "for i in range(0,test_size):\n",
    "    (A,H) = forward(Xt[i],Yt[i],W,B,L)\n",
    "    nizT.append( H[len(L)-1][0,0])\n"
   ]
  },
  {
   "cell_type": "code",
   "execution_count": 513,
   "metadata": {
    "collapsed": false
   },
   "outputs": [
    {
     "data": {
      "text/plain": [
       "[<matplotlib.lines.Line2D at 0x7ffb5c3ed0f0>]"
      ]
     },
     "execution_count": 513,
     "metadata": {},
     "output_type": "execute_result"
    },
    {
     "data": {
      "image/png": "[encoded data removed]",
      "text/plain": [
       "<matplotlib.figure.Figure at 0x7ffb5c59f9b0>"
      ]
     },
     "metadata": {},
     "output_type": "display_data"
    }
   ],
   "source": [
    "#crvena linija ocekivani rezultati, plave tacke dobijeni rezultati\n",
    "plt.scatter(nizT,Yt)\n",
    "plt.plot(np.arange(0,20), np.arange(0,20),color =\"r\")\n",
    "#plt.ylim([-2,4])"
   ]
  },
  {
   "cell_type": "code",
   "execution_count": null,
   "metadata": {
    "collapsed": false
   },
   "outputs": [],
   "source": []
  }
 ],
 "metadata": {
  "kernelspec": {
   "display_name": "Python 3",
   "language": "python",
   "name": "python3"
  },
  "language_info": {
   "codemirror_mode": {
    "name": "ipython",
    "version": 3
   },
   "file_extension": ".py",
   "mimetype": "text/x-python",
   "name": "python",
   "nbconvert_exporter": "python",
   "pygments_lexer": "ipython3",
   "version": "3.6.0"
  }
 },
 "nbformat": 4,
 "nbformat_minor": 2
}
