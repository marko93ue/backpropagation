{
 "cells": [
  {
   "cell_type": "code",
   "execution_count": 571,
   "metadata": {
    "collapsed": false
   },
   "outputs": [],
   "source": [
    "import numpy as np\n",
    "import matplotlib.pyplot as plt\n",
    "import copy\n",
    "%matplotlib inline\n"
   ]
  },
  {
   "cell_type": "code",
   "execution_count": 572,
   "metadata": {
    "collapsed": false
   },
   "outputs": [],
   "source": [
    "#funkcije\n",
    "def target(x):\n",
    "    return 5*x\n",
    "\n",
    "def Sigmoid(x):\n",
    "    return 1.0/(1.0+np.exp(-x))\n",
    "\n",
    "def Relu(x):\n",
    "    return x if (x > 0) else 0\n",
    "\n",
    "Relu = np.vectorize(Relu)\n",
    "\n",
    "def dRelu(x):\n",
    "    return 0 if x<0 else 1;\n",
    "\n",
    "dRelu = np.vectorize(dRelu)\n",
    "\n",
    "def Error(h,Y):\n",
    "    return ((h-Y)**2)\n",
    "\n",
    "#Error = np.vectorize(Error)\n",
    "\n",
    "def dError(E):\n",
    "    return 2 * (E)\n",
    "\n",
    "def setUpW(L):\n",
    "    W = []\n",
    "    n = len(L)-1\n",
    "    for i in range (0,n):\n",
    "        W.append(0.1 * np.random.randn(L[i+1],L[i])+0.5)\n",
    "        #W[i] -= np.mean(W[i])\n",
    "    return W\n",
    "def setUpB(L):\n",
    "    B = []\n",
    "    n = len(L)-1\n",
    "    for i in range (0,n):\n",
    "        B.append(0.1 * np.random.randn(L[i+1],1)+0.5)\n",
    "        #B[i] -= np.mean(B[i]) \n",
    "    return B\n",
    "\n",
    "def forward(X,Y,W,B,L):\n",
    "    H = []\n",
    "    A = []\n",
    "    n = len(L)-1\n",
    "    for i in range(0,n):\n",
    "        if i == 0:\n",
    "            A.append(copy.deepcopy(X))\n",
    "            H.append(copy.deepcopy(X))\n",
    "            a = W[i].dot(X)+ B[i]\n",
    "            A.append(a)\n",
    "            h = Relu(a)\n",
    "            H.append(h)\n",
    "        elif i == n-1:\n",
    "            a = np.dot(W[i],h) + B[i]\n",
    "            A.append(a)\n",
    "            h = a\n",
    "            H.append(h)            \n",
    "        else:\n",
    "            a = W[i].dot(h) + B[i]\n",
    "            A.append(a)\n",
    "            h = Relu(a)\n",
    "            H.append(h)\n",
    "    return (A,H)\n",
    "\n",
    "def backward(A,H,E,W,B,L,reg_param):\n",
    "    \n",
    "    d = dError(E)\n",
    "    k = len(L)-1\n",
    "    n = len(L)-1\n",
    "    dB = []\n",
    "    dW = []\n",
    "    while k>0:\n",
    "        #print (k)\n",
    "        if k == len(L) -1:\n",
    "            d = d * np.ones(H[k].shape)\n",
    "        else:\n",
    "            d= d * dRelu(H[k])\n",
    "            \n",
    "        \n",
    "        dB.insert(0,d + reg_param * 2 * (H[n]) ) #  reg_param * 2 * H[len(L)-1] je izvod regularizacije\n",
    "        dW.insert(0,d*((H[k-1].T)) + reg_param * 2 * (H[n]) )\n",
    "   \n",
    "        d = W[k-1].T.dot(d)\n",
    "        k = k-1\n",
    "    return (dW,dB)\n",
    "\n",
    "def iteracija(X,Y,W,B,L,ni,reg_param):\n",
    "    (A,H) = forward(X,Y,W,B,L)\n",
    "    h = H[len(L)-1][0,0]\n",
    "    #print (h)\n",
    "    #print (Y)\n",
    "    #E = Error(h,Y)\n",
    "    E = (h-Y)**2\n",
    "    C = E + reg_param * (h**2)\n",
    "    (dW,dB) = backward(A,H,E,W,B,L,reg_param)\n",
    "    #print (dW)\n",
    "    Wr = []\n",
    "    Br = []\n",
    "    k = len(W)\n",
    "    for i in range(0, k):\n",
    "        Wr.append( W[i] - ni * dW[i])\n",
    "        Br.append( B[i] - ni * dB[i])\n",
    "    return (A,H,E,Wr,Br,C)"
   ]
  },
  {
   "cell_type": "code",
   "execution_count": null,
   "metadata": {
    "collapsed": false
   },
   "outputs": [],
   "source": []
  },
  {
   "cell_type": "code",
   "execution_count": null,
   "metadata": {
    "collapsed": false
   },
   "outputs": [],
   "source": []
  },
  {
   "cell_type": "code",
   "execution_count": 573,
   "metadata": {
    "collapsed": false
   },
   "outputs": [
    {
     "data": {
      "text/plain": [
       "[array([[ 0.29860553],\n",
       "        [ 0.72064863],\n",
       "        [ 0.32504076],\n",
       "        [ 0.52029476],\n",
       "        [ 0.63579907],\n",
       "        [ 0.46247275],\n",
       "        [ 0.551172  ]]), array([[ 0.326579  ],\n",
       "        [ 0.52820903],\n",
       "        [ 0.40475047]]), array([[ 0.62282166]])]"
      ]
     },
     "execution_count": 573,
     "metadata": {},
     "output_type": "execute_result"
    }
   ],
   "source": [
    "#inicijalizacija\n",
    "L = [2,7,3,1]\n",
    "\n",
    "W = setUpW(L)\n",
    "B = setUpB(L)\n",
    "ni = 0.00002\n",
    "\n",
    "B"
   ]
  },
  {
   "cell_type": "code",
   "execution_count": 574,
   "metadata": {
    "collapsed": false
   },
   "outputs": [
    {
     "data": {
      "text/plain": [
       "[array([[ 0.29860553],\n",
       "        [ 0.72064863],\n",
       "        [ 0.32504076],\n",
       "        [ 0.52029476],\n",
       "        [ 0.63579907],\n",
       "        [ 0.46247275],\n",
       "        [ 0.551172  ]]), array([[ 0.326579  ],\n",
       "        [ 0.52820903],\n",
       "        [ 0.40475047]]), array([[ 0.62282166]])]"
      ]
     },
     "execution_count": 574,
     "metadata": {},
     "output_type": "execute_result"
    }
   ],
   "source": [
    "reg_param = 0.002\n",
    "B"
   ]
  },
  {
   "cell_type": "code",
   "execution_count": 575,
   "metadata": {
    "collapsed": false
   },
   "outputs": [],
   "source": [
    "#init trening podataka\n",
    "input_size = 500\n",
    "\n",
    "\n",
    "Y = np.empty([input_size])\n",
    "X = np.random.randn(input_size,L[0],1)*0.5+5\n",
    "X -= np.mean(X,axis=0)\n",
    "X /= np.std(X, axis = 0)\n",
    "\n",
    "\n",
    "Y = X[:,0,0] + X[:,1,0]\n"
   ]
  },
  {
   "cell_type": "code",
   "execution_count": 576,
   "metadata": {
    "collapsed": false
   },
   "outputs": [],
   "source": [
    "#treniranje\n",
    "niz = []\n",
    "for i in range(0,input_size):\n",
    "    (A,H,E,W,B,C) = iteracija(X[i],Y[i],W,B,L,ni,reg_param)\n",
    "    niz.append(E)\n",
    "    #print (H[len(L)-1][0,0])\n",
    "    #print (E)\n"
   ]
  },
  {
   "cell_type": "code",
   "execution_count": 577,
   "metadata": {
    "collapsed": false,
    "scrolled": true
   },
   "outputs": [
    {
     "data": {
      "text/plain": [
       "[<matplotlib.lines.Line2D at 0x7f34a2c44908>]"
      ]
     },
     "execution_count": 577,
     "metadata": {},
     "output_type": "execute_result"
    },
    {
     "data": {
      "image/png": "[encoded data removed]",
      "text/plain": [
       "<matplotlib.figure.Figure at 0x7f34a2ce2ba8>"
      ]
     },
     "metadata": {},
     "output_type": "display_data"
    }
   ],
   "source": [
    "plt.plot(np.arange(input_size),np.array(niz))\n",
    "#plt.ylim([-0.1,1000])"
   ]
  },
  {
   "cell_type": "code",
   "execution_count": 578,
   "metadata": {
    "collapsed": false
   },
   "outputs": [],
   "source": [
    "(A,H) = forward(np.array([[1.],[1.185]]),Y,W,B,L)"
   ]
  },
  {
   "cell_type": "code",
   "execution_count": 579,
   "metadata": {
    "collapsed": false
   },
   "outputs": [
    {
     "data": {
      "text/plain": [
       "[array([[ 1.   ],\n",
       "        [ 1.185]]), array([[ 1.43406452],\n",
       "        [ 1.55417416],\n",
       "        [ 1.20987943],\n",
       "        [ 1.47626757],\n",
       "        [ 1.69985271],\n",
       "        [ 1.85821107],\n",
       "        [ 1.68796738]]), array([[ 5.17650625],\n",
       "        [ 6.56539575],\n",
       "        [ 5.71866161]]), array([[ 3.03244112]])]"
      ]
     },
     "execution_count": 579,
     "metadata": {},
     "output_type": "execute_result"
    }
   ],
   "source": [
    "H"
   ]
  },
  {
   "cell_type": "code",
   "execution_count": 580,
   "metadata": {
    "collapsed": false
   },
   "outputs": [
    {
     "data": {
      "text/plain": [
       "(100,)"
      ]
     },
     "execution_count": 580,
     "metadata": {},
     "output_type": "execute_result"
    }
   ],
   "source": [
    "test_size = 100\n",
    "\n",
    "Yt = np.empty([test_size])\n",
    "Xt = np.random.randn(test_size,L[0],1)+3\n",
    "\n",
    "Yt = (Xt[:,1,0]+Xt[:,0,0] )\n",
    "Yt.shape"
   ]
  },
  {
   "cell_type": "code",
   "execution_count": 581,
   "metadata": {
    "collapsed": false
   },
   "outputs": [
    {
     "data": {
      "text/plain": [
       "100"
      ]
     },
     "execution_count": 581,
     "metadata": {},
     "output_type": "execute_result"
    }
   ],
   "source": [
    "nizT = []\n",
    "for i in range(0,test_size):\n",
    "    (A,H) = forward(Xt[i],Yt[i],W,B,L)\n",
    "    nizT.append( H[len(L)-1][0,0])\n",
    "len(nizT)"
   ]
  },
  {
   "cell_type": "code",
   "execution_count": 582,
   "metadata": {
    "collapsed": false
   },
   "outputs": [
    {
     "data": {
      "text/plain": [
       "[<matplotlib.lines.Line2D at 0x7f34a2c5b4a8>]"
      ]
     },
     "execution_count": 582,
     "metadata": {},
     "output_type": "execute_result"
    },
    {
     "data": {
      "image/png": "[encoded data removed]",
      "text/plain": [
       "<matplotlib.figure.Figure at 0x7f34a2c5be80>"
      ]
     },
     "metadata": {},
     "output_type": "display_data"
    }
   ],
   "source": [
    "plt.scatter(nizT,Yt)\n",
    "plt.plot(np.arange(-4,14), np.arange(-4,14),color =\"r\")\n",
    "#plt.ylim([-2,4])"
   ]
  },
  {
   "cell_type": "code",
   "execution_count": null,
   "metadata": {
    "collapsed": false
   },
   "outputs": [],
   "source": []
  },
  {
   "cell_type": "code",
   "execution_count": 583,
   "metadata": {
    "collapsed": false
   },
   "outputs": [
    {
     "data": {
      "text/plain": [
       "array([[1, 1, 0],\n",
       "       [0, 0, 0]])"
      ]
     },
     "execution_count": 583,
     "metadata": {},
     "output_type": "execute_result"
    }
   ],
   "source": [
    "dRelu( np.array([ [1,2,-3],[-2,-1,-.04]]))"
   ]
  },
  {
   "cell_type": "code",
   "execution_count": null,
   "metadata": {
    "collapsed": true
   },
   "outputs": [],
   "source": []
  }
 ],
 "metadata": {
  "kernelspec": {
   "display_name": "Python 3",
   "language": "python",
   "name": "python3"
  },
  "language_info": {
   "codemirror_mode": {
    "name": "ipython",
    "version": 3
   },
   "file_extension": ".py",
   "mimetype": "text/x-python",
   "name": "python",
   "nbconvert_exporter": "python",
   "pygments_lexer": "ipython3",
   "version": "3.6.0"
  }
 },
 "nbformat": 4,
 "nbformat_minor": 2
}
