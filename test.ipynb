{
 "cells": [
  {
   "cell_type": "code",
   "execution_count": 83,
   "metadata": {
    "collapsed": false
   },
   "outputs": [],
   "source": [
    "import numpy as np\n",
    "import matplotlib.pyplot as plt\n",
    "import copy\n",
    "%matplotlib inline"
   ]
  },
  {
   "cell_type": "code",
   "execution_count": 84,
   "metadata": {
    "collapsed": false
   },
   "outputs": [],
   "source": [
    "#funkcije\n",
    "\n",
    "#fja koji pokusavamo da naucimo\n",
    "def target(x,y):\n",
    "    return x+y;\n",
    "\n",
    "\n",
    "def Sigmoid(x):\n",
    "    return 1.0/(1.0+np.exp(-x))\n",
    "\n",
    "def Relu(x):\n",
    "    return x if (x > 0) else 0\n",
    "\n",
    "Relu = np.vectorize(Relu)\n",
    "\n",
    "#izvod Relu\n",
    "def dRelu(x):\n",
    "    return 0 if x<0 else 1;\n",
    "\n",
    "dRelu = np.vectorize(dRelu)\n",
    "\n",
    "def Error(h,Y):\n",
    "    return ((h-Y)**2)\n",
    "\n",
    "\n",
    "\n",
    "def dError(E):\n",
    "    return 2 * (E)\n",
    "\n",
    "#init weights\n",
    "def setUpW(L):\n",
    "    W = []\n",
    "    n = len(L)-1\n",
    "    for i in range (0,n):\n",
    "        if i == n-1:\n",
    "            W.append(np.ones((L[i+1],L[i])))\n",
    "        else:    \n",
    "            W.append(0.1+0.1 * np.random.randn(L[i+1],L[i]))\n",
    "        #W[i] -= np.mean(W[i])\n",
    "    return W\n",
    "\n",
    "# init bias\n",
    "def setUpB(L):\n",
    "    B = []\n",
    "    n = len(L)-1\n",
    "    for i in range (0,n):\n",
    "        if i == n-1:\n",
    "            B.append(np.zeros((L[i+1],1)))\n",
    "        else:\n",
    "            B.append(0.1+ 0.1 * np.random.randn(L[i+1],1))\n",
    "        #B[i] -= np.mean(B[i]) \n",
    "    return B\n",
    "\n",
    "# racuna aktivacije\n",
    "def forward(X,Y,W,B,L):\n",
    "    H = []\n",
    "    A = []\n",
    "    n = len(L)-1\n",
    "    for i in range(0,n):\n",
    "        if i == 0:\n",
    "            A.append(copy.deepcopy(X))\n",
    "            H.append(copy.deepcopy(X))\n",
    "            a = W[i].dot(X)+ B[i]\n",
    "            A.append(a)\n",
    "            h = Relu(a)\n",
    "            H.append(h)\n",
    "        elif i == n-1:\n",
    "            a = np.dot(W[i],h) + B[i]\n",
    "            A.append(a)\n",
    "            h = a\n",
    "            H.append(h)            \n",
    "        else:\n",
    "            a = W[i].dot(h) + B[i]\n",
    "            A.append(a)\n",
    "            h = Relu(a)\n",
    "            H.append(h)\n",
    "    return (A,H)\n",
    "\n",
    "# racuna gradijente\n",
    "def backward(A,H,E,W,B,L,reg_param):\n",
    "    \n",
    "    d = dError(E)\n",
    "    k = len(L)-1\n",
    "    n = len(L)-1\n",
    "    dB = []\n",
    "    dW = []\n",
    "    while k>0:\n",
    "        #print (k)\n",
    "        if k == len(L) -1:\n",
    "            d = d * np.ones(H[k].shape)\n",
    "        else:\n",
    "            d= d * dRelu(H[k])\n",
    "            \n",
    "        \n",
    "        dB.insert(0,d + reg_param * 2 * (H[n]) * np.sign(H[n])) \n",
    "        dW.insert(0,d*((H[k-1].T)) + reg_param * 2 * np.sign(H[n]) )\n",
    "   \n",
    "        d = W[k-1].T.dot(d)\n",
    "        k = k-1\n",
    "    return (dW,dB)\n",
    "#forward pass, backward pass & update W\n",
    "def iteracija(X,Y,W,B,L,ni,reg_param):\n",
    "    (A,H) = forward(X,Y,W,B,L)\n",
    "    h = H[len(L)-1][0,0]\n",
    "    E = (h-Y)**2\n",
    "    C = E + reg_param * (h**2)\n",
    "    \n",
    "    (dW,dB) = backward(A,H,E,W,B,L,reg_param)\n",
    "   \n",
    "    Wr = []\n",
    "    Br = []\n",
    "    k = len(W)\n",
    "    for i in range(0, k):\n",
    "        if i == k-1:\n",
    "            Wr.append(W[i])\n",
    "            Br.append(B[i])\n",
    "        else:\n",
    "            Wr.append( W[i] - ni * dW[i])\n",
    "            Br.append( B[i] - ni * dB[i])\n",
    "    return (A,H,E,Wr,Br,C)\n",
    "\n",
    "#generis podatke za testiranje/trening razdvojeno zbog noramlizacije\n",
    "def generate_train_data(size):\n",
    "    X =  np.round((2*(np.random.randn(size,L[0],1)))+5,decimals=1)\n",
    "\n",
    "    X -= np.mean(X,axis=0)\n",
    "    X /= np.std(X, axis = 0)\n",
    "\n",
    "    Y = target(X[:,0,0], X[:,1,0])\n",
    "    \n",
    "    return (X,Y)\n",
    "\n",
    "def generate_test_data(size):\n",
    "    \n",
    "    X = np.round( (2*(np.random.randn(size,L[0],1)))+5 ,decimals=1 )\n",
    "    Y = target(X[:,0,0], X[:,1,0])\n",
    "    \n",
    "    return (X,Y)\n",
    "    \n",
    "\n",
    "def train(X,Y,W,B,L,ni,reg_param):\n",
    "    niz = []\n",
    "    for i in range(0,len(X)):\n",
    "        (A,H,E,W,B,C) = iteracija(X[i],Y[i],W,B,L,ni,reg_param)\n",
    "        niz.append(C)\n",
    "    return (niz,W,B)\n",
    "\n",
    "def test(X,Y,W,B,L):\n",
    "    niz = []\n",
    "    for i in range(0,len(X)):\n",
    "        (A,H) = forward(X[i],Y[i],W,B,L)\n",
    "        niz.append( H[len(L)-1][0,0])\n",
    "    plt.scatter(niz,Yt)\n",
    "    plt.plot(np.arange(0,15), np.arange(0,15),color =\"r\")\n"
   ]
  },
  {
   "cell_type": "code",
   "execution_count": 85,
   "metadata": {
    "collapsed": false
   },
   "outputs": [],
   "source": [
    "#inicijalizacija\n",
    "\n",
    "#oblik mreze (uvek 1 izlaz zbog regresije, 2 ulaza zbog sabiranja 2 broja)\n",
    "L = [2,7,11,1]\n",
    "\n",
    "W = setUpW(L)\n",
    "B = setUpB(L)\n"
   ]
  },
  {
   "cell_type": "code",
   "execution_count": 86,
   "metadata": {
    "collapsed": true
   },
   "outputs": [],
   "source": [
    "#generisanje testova\n",
    "test_size = 100\n",
    "(Xt,Yt) = generate_test_data(test_size)"
   ]
  },
  {
   "cell_type": "code",
   "execution_count": 87,
   "metadata": {
    "collapsed": false
   },
   "outputs": [],
   "source": [
    "#na ovoj celiji izvrsiti Run All Below za generisanje trening skupa, testirnja i prikaz rezultat\n",
    "\n",
    "#brzina ucenja i parametar za regularizaciju\n",
    "ni = 0.00001\n",
    "reg_param = 0.10"
   ]
  },
  {
   "cell_type": "code",
   "execution_count": 88,
   "metadata": {
    "collapsed": false
   },
   "outputs": [],
   "source": [
    "#init trening podataka\n",
    "input_size = 300\n",
    "(X,Y) = generate_train_data(input_size)"
   ]
  },
  {
   "cell_type": "code",
   "execution_count": 89,
   "metadata": {
    "collapsed": false
   },
   "outputs": [
    {
     "data": {
      "text/plain": [
       "[<matplotlib.lines.Line2D at 0x7f2ed4b1b0f0>]"
      ]
     },
     "execution_count": 89,
     "metadata": {},
     "output_type": "execute_result"
    },
    {
     "data": {
      "image/png": "[encoded data removed]",
      "text/plain": [
       "<matplotlib.figure.Figure at 0x7f2ed49bf588>"
      ]
     },
     "metadata": {},
     "output_type": "display_data"
    }
   ],
   "source": [
    "#treniranje, u nizu Loss\n",
    "(niz,W,B) = train(X,Y,W,B,L,ni,reg_param)\n",
    "\n",
    "# y osa cene, x osa iteracije\n",
    "plt.plot(np.arange(input_size),np.array(niz))"
   ]
  },
  {
   "cell_type": "code",
   "execution_count": 90,
   "metadata": {
    "collapsed": false
   },
   "outputs": [
    {
     "data": {
      "text/plain": [
       "13.772716711036535"
      ]
     },
     "execution_count": 90,
     "metadata": {},
     "output_type": "execute_result"
    }
   ],
   "source": [
    "#mini test sabiranja\n",
    "(A,H) = forward(np.array([[6.],[9.1]]),Y,W,B,L)\n",
    "H[len(L)-1][0,0]"
   ]
  },
  {
   "cell_type": "code",
   "execution_count": 91,
   "metadata": {
    "collapsed": false
   },
   "outputs": [
    {
     "data": {
      "image/png": "[encoded data removed]",
      "text/plain": [
       "<matplotlib.figure.Figure at 0x7f2ed4a94668>"
      ]
     },
     "metadata": {},
     "output_type": "display_data"
    }
   ],
   "source": [
    "#crvena linija ocekivani rezultati, plave tacke dobijeni rezultati\n",
    "test(Xt,Yt,W,B,L)"
   ]
  },
  {
   "cell_type": "code",
   "execution_count": null,
   "metadata": {
    "collapsed": true
   },
   "outputs": [],
   "source": []
  }
 ],
 "metadata": {
  "kernelspec": {
   "display_name": "Python 3",
   "language": "python",
   "name": "python3"
  },
  "language_info": {
   "codemirror_mode": {
    "name": "ipython",
    "version": 3
   },
   "file_extension": ".py",
   "mimetype": "text/x-python",
   "name": "python",
   "nbconvert_exporter": "python",
   "pygments_lexer": "ipython3",
   "version": "3.6.0"
  }
 },
 "nbformat": 4,
 "nbformat_minor": 2
}
