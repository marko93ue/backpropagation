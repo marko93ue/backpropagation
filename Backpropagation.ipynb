{
 "cells": [
  {
   "cell_type": "code",
   "execution_count": 1,
   "metadata": {
    "collapsed": true
   },
   "outputs": [],
   "source": [
    "import numpy as np\n",
    "import matplotlib.pyplot as plt\n",
    "import copy\n",
    "%matplotlib inline"
   ]
  },
  {
   "cell_type": "code",
   "execution_count": 2,
   "metadata": {
    "collapsed": true
   },
   "outputs": [],
   "source": [
    "#fja koju aproksimiramo\n",
    "def target(x,y):\n",
    "    return (x)**2 + y;\n",
    "\n",
    "def Relu(x):\n",
    "    return x if (x > 0) else 0;\n",
    "\n",
    "Relu = np.vectorize(Relu)\n",
    "\n",
    "def dRelu(x):\n",
    "    return 1e-9 if x<=0 else 1;\n",
    "\n",
    "dRelu = np.vectorize(dRelu)\n",
    "\n",
    "def Sigmoid(x):\n",
    "    return 1.0/(1.0 + np.exp(-x))\n",
    "\n",
    "Sigmoid = np.vectorize(Sigmoid)\n",
    "\n",
    "def dSigmoid(x):\n",
    "    return (1 - Sigmoid(x)) * Sigmoid(x)\n",
    "\n",
    "dSigmoid = np.vectorize(dSigmoid)"
   ]
  },
  {
   "cell_type": "code",
   "execution_count": 3,
   "metadata": {
    "collapsed": false
   },
   "outputs": [],
   "source": [
    "#fja greske\n",
    "#Hl je poslednji sloj, Y je tacna vrednost\n",
    "def Error(Hl,Y):\n",
    "    return ((Hl-Y)**2)\n",
    "\n",
    "def dError(Hl,Yl):\n",
    "    return 2* (Hl-Yl)*Hl"
   ]
  },
  {
   "cell_type": "code",
   "execution_count": 4,
   "metadata": {
    "collapsed": false
   },
   "outputs": [],
   "source": [
    "#init\n",
    "def setUpW(L):\n",
    "    W = []\n",
    "    n = len(L)-1\n",
    "    for i in range (0,n):\n",
    "        if i == n-1:\n",
    "            # u poslednjem sloju sve tezine su 1\n",
    "            W.append(np.ones((L[i+1],L[i])))\n",
    "        else:    \n",
    "            W.append( 0.01 * np.random.randn(L[i+1],L[i]))\n",
    "    return W\n",
    "\n",
    "\n",
    "# init bias\n",
    "def setUpB(L):\n",
    "    B = []\n",
    "    n = len(L)-1\n",
    "    for i in range (0,n):\n",
    "        if i == n-1:\n",
    "            B.append( np.zeros((L[i+1],1)))\n",
    "        else:\n",
    "            B.append( np.zeros((L[i+1],1)))\n",
    "    return B"
   ]
  },
  {
   "cell_type": "code",
   "execution_count": 5,
   "metadata": {
    "collapsed": false
   },
   "outputs": [],
   "source": [
    "def forwardPass(X,W,B,L,activation):\n",
    "    n = len(L)-1\n",
    "    H = []\n",
    "    H.append(copy.deepcopy(X))\n",
    "    for i in range(0,n):\n",
    "        if i == n-1:\n",
    "            H.append( W[i].dot(H[-1]) + B[i] )\n",
    "        else:\n",
    "            H.append( activation( W[i].dot(H[-1]) + B[i] ) )\n",
    "    return H\n",
    "\n",
    "def backwardPass(H, W, B, L, Yl, dActivation):\n",
    "    d = dError(H[-1],Yl) #izvod greske\n",
    "    k = len(L) -1\n",
    "    dW = []\n",
    "    dB = []\n",
    "    while k > 0:\n",
    "        if k == len(L)-1:\n",
    "            d = d * np.ones(H[k].shape)   \n",
    "        else:\n",
    "            d= d * dActivation(H[k])\n",
    "        \n",
    "        dB.insert(0, d )\n",
    "        dW.insert(0, d * H[k-1].T )\n",
    "        \n",
    "        d = W[k-1].T.dot(d)\n",
    "        k-=1\n",
    "    \n",
    "    return (dW,dB)"
   ]
  },
  {
   "cell_type": "code",
   "execution_count": 6,
   "metadata": {
    "collapsed": false
   },
   "outputs": [],
   "source": [
    "def iteracija(X, Y, W, B, L, ni, reg_param, Activation, dActivation):\n",
    "    H = forwardPass(X, W, B, L, Activation)\n",
    "    E = Error(H[-1], Y)\n",
    "    R = 0\n",
    "    for i in range(0, len(W)-1):\n",
    "        R += np.sum(W[i]**2) \n",
    "        \n",
    "    R *= (reg_param * 0.5)\n",
    "    Loss = E + R\n",
    "    \n",
    "    (dW, dB) = backwardPass(H, W, B, L, Y, dActivation)\n",
    "    \n",
    "    newW = []\n",
    "    newB = []\n",
    "    k = len(W)\n",
    "    for i in range(0,k):\n",
    "        if i == k-1:\n",
    "            newW.append(np.ones(W[i].shape))\n",
    "            newB.append(np.zeros(B[i].shape))\n",
    "        else:\n",
    "            newW.append( W[i] - ni * dW[i] - ni * reg_param * W[i])\n",
    "            newB.append( B[i] - ni * dB[i])\n",
    "            \n",
    "    return (newW, newB, Loss[0])"
   ]
  },
  {
   "cell_type": "code",
   "execution_count": 7,
   "metadata": {
    "collapsed": true
   },
   "outputs": [],
   "source": [
    "def generate_train_data(size,L):\n",
    "    X = 10 * np.random.randn(size,L[0],1)\n",
    "    \n",
    "    #normalizacija\n",
    "    X -= np.mean(X,axis=0)\n",
    "    X /= np.std(X, axis = 0)\n",
    "\n",
    "    Y = target(X[:,0,0], X[:,1,0])\n",
    "    \n",
    "    return (X,Y)\n",
    "\n",
    "def generate_test_data(size,L):\n",
    "    X = 5*np.random.randn(size,L[0],1) \n",
    "    Y = target(X[:,0,0], X[:,1,0])\n",
    "    \n",
    "    return (X,Y)"
   ]
  },
  {
   "cell_type": "code",
   "execution_count": 8,
   "metadata": {
    "collapsed": true
   },
   "outputs": [],
   "source": [
    "def train(X, Y, W, B, L, ni, reg_param, activation):\n",
    "    if activation == 'relu':\n",
    "        Activation = Relu\n",
    "        dActivation = dRelu\n",
    "    elif activation == 'sigmoid':\n",
    "        Activation = Sigmoid\n",
    "        dActivation = dSigmoid\n",
    "    else:\n",
    "        Activation = None\n",
    "        dActivation = None\n",
    "    k = len(X)-1\n",
    "    lossList = []\n",
    "    for i in range(0,k):\n",
    "        (W, B, Loss) = iteracija(X[i], Y[i], W, B, L, ni, reg_param, Activation, dActivation)\n",
    "        lossList.append(Loss)\n",
    "    return (lossList, W, B)"
   ]
  },
  {
   "cell_type": "code",
   "execution_count": 9,
   "metadata": {
    "collapsed": true
   },
   "outputs": [],
   "source": [
    "def test(X, Y, W, B, L, Activation):\n",
    "    k = len(X)\n",
    "    results = []\n",
    "    for i in range(0,k):\n",
    "        H = forwardPass(X[i], W, B, L, Activation)\n",
    "        results.append(H[-1][0][0])\n",
    "    plt.scatter(results,Y)\n",
    "    plt.plot(np.arange(30), np.arange(30), 'r')\n",
    "    plt.ylabel(\"Tacne vrednosti\")\n",
    "    plt.xlabel(\"Dobije vrednosti\")"
   ]
  },
  {
   "cell_type": "code",
   "execution_count": 10,
   "metadata": {
    "collapsed": false
   },
   "outputs": [],
   "source": [
    "L = [2,97,1]\n",
    "W = setUpW(L)\n",
    "B = setUpB(L)"
   ]
  },
  {
   "cell_type": "code",
   "execution_count": 11,
   "metadata": {
    "collapsed": true
   },
   "outputs": [],
   "source": [
    "train_size = 200\n",
    "test_size = 200"
   ]
  },
  {
   "cell_type": "code",
   "execution_count": 12,
   "metadata": {
    "collapsed": true
   },
   "outputs": [],
   "source": [
    "ni = 0.0001\n",
    "reg_param = 0.001"
   ]
  },
  {
   "cell_type": "code",
   "execution_count": 13,
   "metadata": {
    "collapsed": false
   },
   "outputs": [],
   "source": [
    "(trainX, trainY) = generate_train_data(train_size, L)"
   ]
  },
  {
   "cell_type": "code",
   "execution_count": 14,
   "metadata": {
    "collapsed": true
   },
   "outputs": [],
   "source": [
    "(testX, testY) = generate_test_data(test_size, L)"
   ]
  },
  {
   "cell_type": "code",
   "execution_count": 15,
   "metadata": {
    "collapsed": false
   },
   "outputs": [
    {
     "data": {
      "text/plain": [
       "<matplotlib.text.Text at 0x7fbb3e6f9c88>"
      ]
     },
     "execution_count": 15,
     "metadata": {},
     "output_type": "execute_result"
    },
    {
     "data": {
      "image/png": "[encoded data removed]",
      "text/plain": [
       "<matplotlib.figure.Figure at 0x7fbb3e72ecf8>"
      ]
     },
     "metadata": {},
     "output_type": "display_data"
    }
   ],
   "source": [
    "for i in range(0,15):\n",
    "    (loss, W, B) = train(trainX, trainY, W, B, L, ni, reg_param, 'relu')\n",
    "plt.plot( np.arange(len(loss)), np.array(loss))\n",
    "plt.xlabel('Iteracija')\n",
    "plt.ylabel('Loss')"
   ]
  },
  {
   "cell_type": "code",
   "execution_count": 16,
   "metadata": {
    "collapsed": false
   },
   "outputs": [
    {
     "data": {
      "image/png": "[encoded data removed]",
      "text/plain": [
       "<matplotlib.figure.Figure at 0x7fbb3e72d5f8>"
      ]
     },
     "metadata": {},
     "output_type": "display_data"
    }
   ],
   "source": [
    "test(testX, testY, W, B, L, Relu)"
   ]
  },
  {
   "cell_type": "code",
   "execution_count": 17,
   "metadata": {
    "collapsed": false
   },
   "outputs": [
    {
     "data": {
      "image/png": "[encoded data removed]",
      "text/plain": [
       "<matplotlib.figure.Figure at 0x7fbb3bf3b128>"
      ]
     },
     "metadata": {},
     "output_type": "display_data"
    }
   ],
   "source": [
    "test(testX, testY, W, B, L, Relu)"
   ]
  },
  {
   "cell_type": "code",
   "execution_count": 18,
   "metadata": {
    "collapsed": false
   },
   "outputs": [
    {
     "data": {
      "text/plain": [
       "(16.187105378128344, 29)"
      ]
     },
     "execution_count": 18,
     "metadata": {},
     "output_type": "execute_result"
    }
   ],
   "source": [
    "a = 3\n",
    "b = 20\n",
    "x = np.array([a,b]).reshape(2,1)\n",
    "forwardPass(x,W,B,L,Relu)[-1][0,0], target(a,b)"
   ]
  },
  {
   "cell_type": "code",
   "execution_count": null,
   "metadata": {
    "collapsed": true
   },
   "outputs": [],
   "source": []
  }
 ],
 "metadata": {
  "kernelspec": {
   "display_name": "Python 3",
   "language": "python",
   "name": "python3"
  },
  "language_info": {
   "codemirror_mode": {
    "name": "ipython",
    "version": 3
   },
   "file_extension": ".py",
   "mimetype": "text/x-python",
   "name": "python",
   "nbconvert_exporter": "python",
   "pygments_lexer": "ipython3",
   "version": "3.6.0"
  }
 },
 "nbformat": 4,
 "nbformat_minor": 2
}
